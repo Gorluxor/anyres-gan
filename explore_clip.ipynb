{
 "cells": [
  {
   "cell_type": "code",
   "execution_count": null,
   "metadata": {},
   "outputs": [],
   "source": [
    "import os\n",
    "import clip\n",
    "import torch\n",
    "\n",
    "\n"
   ]
  },
  {
   "cell_type": "code",
   "execution_count": 1,
   "metadata": {},
   "outputs": [],
   "source": [
    "import pickle\n",
    "with open('testa/patch_kwargs.pkl', 'rb') as f:\n",
    "    patch_kwargs = pickle.load(f)"
   ]
  },
  {
   "cell_type": "code",
   "execution_count": 2,
   "metadata": {},
   "outputs": [
    {
     "data": {
      "text/plain": [
       "{'class_name': 'training.dataset.ImagePatchDataset',\n",
       " 'path': '/datawaha/cggroup/cvejica/FFHQ/FFHQ1024',\n",
       " 'resolution': 256,\n",
       " 'scale_min': 1.0,\n",
       " 'scale_max': 1.0,\n",
       " 'scale_anneal': -1.0,\n",
       " 'random_crop': True,\n",
       " 'use_labels': False,\n",
       " 'max_size': 70000,\n",
       " 'xflip': True,\n",
       " 'use_normal': False,\n",
       " 'use_hr': True,\n",
       " 'random_seed': 0}"
      ]
     },
     "execution_count": 2,
     "metadata": {},
     "output_type": "execute_result"
    }
   ],
   "source": [
    "patch_kwargs"
   ]
  },
  {
   "cell_type": "code",
   "execution_count": 3,
   "metadata": {},
   "outputs": [],
   "source": [
    "import dnnlib\n",
    "w = dnnlib.util.construct_class_by_name(**patch_kwargs)"
   ]
  },
  {
   "cell_type": "code",
   "execution_count": 32,
   "metadata": {},
   "outputs": [
    {
     "data": {
      "text/plain": [
       "{'class_name': 'training.dataset.ImagePatchDataset',\n",
       " 'path': '/datawaha/cggroup/cvejica/FFHQ/FFHQ1024',\n",
       " 'resolution': 1024,\n",
       " 'scale_min': 1.0,\n",
       " 'scale_max': 1.0,\n",
       " 'scale_anneal': -1.0,\n",
       " 'random_crop': True,\n",
       " 'use_labels': False,\n",
       " 'max_size': 70000,\n",
       " 'xflip': True,\n",
       " 'use_normal': False,\n",
       " 'use_hr': True,\n",
       " 'random_seed': 0}"
      ]
     },
     "execution_count": 32,
     "metadata": {},
     "output_type": "execute_result"
    }
   ],
   "source": [
    "patch_kwargs"
   ]
  },
  {
   "cell_type": "code",
   "execution_count": 5,
   "metadata": {},
   "outputs": [
    {
     "data": {
      "text/plain": [
       "array([[[132, 129, 127, ...,   4,   2,   0],\n",
       "        [135, 133, 129, ...,   4,   4,   2],\n",
       "        [138, 138, 129, ...,   3,   4,   4],\n",
       "        ...,\n",
       "        [101, 101, 118, ..., 141, 131, 124],\n",
       "        [107,  93, 100, ..., 137, 135, 131],\n",
       "        [110, 104, 106, ..., 141, 141, 136]],\n",
       "\n",
       "       [[121, 118, 116, ...,  61,  60,  58],\n",
       "        [123, 122, 119, ...,  60,  60,  60],\n",
       "        [128, 127, 119, ...,  59,  60,  60],\n",
       "        ...,\n",
       "        [148, 148, 165, ..., 170, 162, 160],\n",
       "        [157, 142, 148, ..., 165, 166, 167],\n",
       "        [159, 153, 155, ..., 170, 174, 173]],\n",
       "\n",
       "       [[116, 112, 109, ...,  75,  74,  72],\n",
       "        [117, 115, 110, ...,  73,  74,  74],\n",
       "        [119, 118, 109, ...,  70,  72,  73],\n",
       "        ...,\n",
       "        [ 83,  83,  99, ..., 123, 125, 129],\n",
       "        [ 90,  76,  81, ..., 115, 125, 132],\n",
       "        [ 94,  87,  89, ..., 120, 130, 132]]], dtype=uint8)"
      ]
     },
     "execution_count": 5,
     "metadata": {},
     "output_type": "execute_result"
    }
   ],
   "source": [
    "from torchvision.transforms import ToPILImage,ToTensor\n",
    "\n",
    "from PIL import Image\n",
    "\n",
    "w[0][0]['image']"
   ]
  },
  {
   "cell_type": "code",
   "execution_count": 20,
   "metadata": {},
   "outputs": [
    {
     "ename": "AttributeError",
     "evalue": "'numpy.ndarray' object has no attribute 'permute'",
     "output_type": "error",
     "traceback": [
      "\u001b[0;31m---------------------------------------------------------------------------\u001b[0m",
      "\u001b[0;31mAttributeError\u001b[0m                            Traceback (most recent call last)",
      "\u001b[1;32m/datawaha/cggroup/cvejica/anyres-gan/explore_clip.ipynb Cell 6\u001b[0m in \u001b[0;36m<cell line: 1>\u001b[0;34m()\u001b[0m\n\u001b[0;32m----> <a href='vscode-notebook-cell://ssh-remote%2Bkw61092/datawaha/cggroup/cvejica/anyres-gan/explore_clip.ipynb#W5sdnNjb2RlLXJlbW90ZQ%3D%3D?line=0'>1</a>\u001b[0m w[\u001b[39m0\u001b[39;49m][\u001b[39m0\u001b[39;49m][\u001b[39m'\u001b[39;49m\u001b[39mimage\u001b[39;49m\u001b[39m'\u001b[39;49m]\u001b[39m.\u001b[39;49mpermute(\u001b[39m1\u001b[39m,\u001b[39m2\u001b[39m,\u001b[39m0\u001b[39m)\n",
      "\u001b[0;31mAttributeError\u001b[0m: 'numpy.ndarray' object has no attribute 'permute'"
     ]
    }
   ],
   "source": []
  },
  {
   "cell_type": "code",
   "execution_count": null,
   "metadata": {},
   "outputs": [],
   "source": []
  }
 ],
 "metadata": {
  "kernelspec": {
   "display_name": "anyres-gan",
   "language": "python",
   "name": "python3"
  },
  "language_info": {
   "codemirror_mode": {
    "name": "ipython",
    "version": 3
   },
   "file_extension": ".py",
   "mimetype": "text/x-python",
   "name": "python",
   "nbconvert_exporter": "python",
   "pygments_lexer": "ipython3",
   "version": "3.8.15"
  },
  "orig_nbformat": 4
 },
 "nbformat": 4,
 "nbformat_minor": 2
}
