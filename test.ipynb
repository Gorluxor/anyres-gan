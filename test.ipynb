{
 "cells": [
  {
   "cell_type": "code",
   "execution_count": 1,
   "metadata": {},
   "outputs": [],
   "source": [
    "%load_ext autoreload\n",
    "%autoreload 2"
   ]
  },
  {
   "cell_type": "code",
   "execution_count": 7,
   "metadata": {},
   "outputs": [
    {
     "name": "stdout",
     "output_type": "stream",
     "text": [
      "Autoloading gmp/6.2.1/gcc-7.5.0-2px2tki\u001b[m\n",
      "Autoloading mpc/1.1.0/gcc-7.5.0-osodvlz\u001b[m\n",
      "Autoloading mpfr/4.1.0/gcc-7.5.0-ublhnmp\u001b[m\n",
      "Autoloading zlib/1.2.11/gcc-7.5.0-h3xiplk\u001b[m\n",
      "Autoloading zstd/1.5.0/gcc-7.5.0-qsdxtru\u001b[m\n",
      "Autoloading cuda/10.2.89/gcc-7.5.0-jr6kobf\u001b[m\n",
      "Autoloading libxml2/2.9.9/gcc-7.5.0-ouvtc2l\u001b[m\n",
      "Autoloading libiconv/1.16/gcc-7.5.0-pndwbk6\u001b[m\n",
      "Autoloading xz/5.2.4/gcc-7.5.0-55h4brm\u001b[m\n",
      "Autoloading zlib/1.2.11/gcc-7.5.0-dsnnbcq\u001b[m\n",
      "Autoloading libxml2/2.9.12/gcc-7.5.0-i2j2pf5\u001b[m\n",
      "Autoloading libiconv/1.16/gcc-7.5.0-cvte7wx\u001b[m\n",
      "Autoloading xz/5.2.5/gcc-7.5.0-sytpwnz\u001b[m\n",
      "Autoloading zlib/1.2.11/gcc-7.5.0-h3xiplk\u001b[m\n",
      "\u001b[K\u001b[?1l\u001b>/sw/workstations/apps/linux-ubuntu18.04-ivybridge/cuda/11.5.0/gcc-7.5.0/syen6pj6ss3cw66zlj4wkfhtixh5i4ei\n"
     ]
    }
   ],
   "source": [
    "!source sh/setup40.sh && echo $CUDA_HOME"
   ]
  },
  {
   "cell_type": "code",
   "execution_count": 6,
   "metadata": {},
   "outputs": [],
   "source": [
    "from grids import load_and_grid"
   ]
  },
  {
   "cell_type": "code",
   "execution_count": null,
   "metadata": {},
   "outputs": [],
   "source": [
    "!source ./sh/setup40.sh"
   ]
  },
  {
   "cell_type": "code",
   "execution_count": 13,
   "metadata": {},
   "outputs": [
    {
     "name": "stdout",
     "output_type": "stream",
     "text": [
      "Autoloading cuda/10.2.89/gcc-7.5.0-jr6kobf\u001b[m\n",
      "Autoloading libxml2/2.9.9/gcc-7.5.0-ouvtc2l\u001b[m\n",
      "Autoloading libiconv/1.16/gcc-7.5.0-pndwbk6\u001b[m\n",
      "Autoloading xz/5.2.4/gcc-7.5.0-55h4brm\u001b[m\n",
      "Autoloading zlib/1.2.11/gcc-7.5.0-dsnnbcq\u001b[m\n",
      "\u001b[K\u001b[?1l\u001b>"
     ]
    },
    {
     "name": "stderr",
     "output_type": "stream",
     "text": [
      "Generating images 1k:   0%|          | 0/16 [00:00<?, ?it/s]"
     ]
    },
    {
     "name": "stdout",
     "output_type": "stream",
     "text": [
      "Setting up PyTorch plugin \"bias_act_plugin\"... "
     ]
    },
    {
     "name": "stderr",
     "output_type": "stream",
     "text": [
      "Generating images 1k:   0%|          | 0/16 [00:00<?, ?it/s]"
     ]
    },
    {
     "name": "stdout",
     "output_type": "stream",
     "text": [
      "Failed!\n"
     ]
    },
    {
     "name": "stderr",
     "output_type": "stream",
     "text": [
      "\n"
     ]
    },
    {
     "ename": "ImportError",
     "evalue": "/home/cvejica/.cache/torch_extensions/py38_cu113/bias_act_plugin/3cb576a0039689487cfba59279dd6d46-nvidia-a100-pcie-40gb/bias_act_plugin.so: cannot open shared object file: No such file or directory",
     "output_type": "error",
     "traceback": [
      "\u001b[0;31m---------------------------------------------------------------------------\u001b[0m",
      "\u001b[0;31mImportError\u001b[0m                               Traceback (most recent call last)",
      "Cell \u001b[0;32mIn[13], line 4\u001b[0m\n\u001b[1;32m      2\u001b[0m get_ipython()\u001b[39m.\u001b[39msystem(\u001b[39m'\u001b[39m\u001b[39mmodule load cudnn\u001b[39m\u001b[39m'\u001b[39m)\n\u001b[1;32m      3\u001b[0m g_path \u001b[39m=\u001b[39m \u001b[39m\"\u001b[39m\u001b[39mtraining-runs/SS750/00010-stylegan3-r-LR-gpus4-batch32-gamma2/network-snapshot-000000.pkl\u001b[39m\u001b[39m\"\u001b[39m\n\u001b[0;32m----> 4\u001b[0m load_and_grid(g_path, grid_size\u001b[39m=\u001b[39;49m\u001b[39m4\u001b[39;49m, random_state\u001b[39m=\u001b[39;49m\u001b[39m19\u001b[39;49m, full_size\u001b[39m=\u001b[39;49m\u001b[39m4096\u001b[39;49m, save_name\u001b[39m=\u001b[39;49m\u001b[39m\"\u001b[39;49m\u001b[39mq00000w\u001b[39;49m\u001b[39m\"\u001b[39;49m, ext\u001b[39m=\u001b[39;49m\u001b[39m\"\u001b[39;49m\u001b[39m.jpg\u001b[39;49m\u001b[39m\"\u001b[39;49m, folder\u001b[39m=\u001b[39;49m\u001b[39m\"\u001b[39;49m\u001b[39moutput\u001b[39;49m\u001b[39m\"\u001b[39;49m, verbose\u001b[39m=\u001b[39;49m\u001b[39mTrue\u001b[39;49;00m, force_MN\u001b[39m=\u001b[39;49m\u001b[39mFalse\u001b[39;49;00m)\n",
      "File \u001b[0;32m/datawaha/cggroup/cvejica/anyres-gan/grids.py:143\u001b[0m, in \u001b[0;36mload_and_grid\u001b[0;34m(G_path, grid_size, random_state, full_size, save_name, ext, folder, verbose, fs, force_MN, only_1k)\u001b[0m\n\u001b[1;32m    135\u001b[0m     \u001b[39mprint\u001b[39m(G_base\u001b[39m.\u001b[39mscale_mapping)\n\u001b[1;32m    136\u001b[0m     \u001b[39m# G_base.scale_mapping_kwargs = None\u001b[39;00m\n\u001b[1;32m    137\u001b[0m     \u001b[39m# G_base.use_scale_affine = None\u001b[39;00m\n\u001b[1;32m    138\u001b[0m     \u001b[39m# #{\u001b[39;00m\n\u001b[0;32m   (...)\u001b[0m\n\u001b[1;32m    141\u001b[0m     \u001b[39m# #     'scale_mapping_norm': 'positive',\u001b[39;00m\n\u001b[1;32m    142\u001b[0m     \u001b[39m# # }\u001b[39;00m\n\u001b[0;32m--> 143\u001b[0m \u001b[39mreturn\u001b[39;00m create_grid_main(G_base, grid_size, random_state, full_size, save_name, ext, folder, fs\u001b[39m=\u001b[39;49mfs, verbose\u001b[39m=\u001b[39;49mverbose, only_1k\u001b[39m=\u001b[39;49monly_1k)\n",
      "File \u001b[0;32m/datawaha/cggroup/cvejica/anyres-gan/grids.py:95\u001b[0m, in \u001b[0;36mcreate_grid_main\u001b[0;34m(G_base, grid_size, random_state, full_size, save_name, ext, folder, verbose, fs, only_1k)\u001b[0m\n\u001b[1;32m     75\u001b[0m \u001b[39mdef\u001b[39;00m \u001b[39mcreate_grid_main\u001b[39m(G_base:torch\u001b[39m.\u001b[39mnn\u001b[39m.\u001b[39mModule, grid_size:\u001b[39mint\u001b[39m \u001b[39m=\u001b[39m \u001b[39m4\u001b[39m,\n\u001b[1;32m     76\u001b[0m                      random_state:\u001b[39mint\u001b[39m \u001b[39m=\u001b[39m \u001b[39m19\u001b[39m, full_size:\u001b[39mint\u001b[39m \u001b[39m=\u001b[39m \u001b[39m4096\u001b[39m,\n\u001b[1;32m     77\u001b[0m                      save_name:\u001b[39mstr\u001b[39m \u001b[39m=\u001b[39m \u001b[39mNone\u001b[39;00m, ext:\u001b[39mstr\u001b[39m \u001b[39m=\u001b[39m \u001b[39m\"\u001b[39m\u001b[39m.jpg\u001b[39m\u001b[39m\"\u001b[39m, \n\u001b[1;32m     78\u001b[0m                      folder:\u001b[39mstr\u001b[39m \u001b[39m=\u001b[39m \u001b[39m\"\u001b[39m\u001b[39moutput\u001b[39m\u001b[39m\"\u001b[39m, verbose:\u001b[39mstr\u001b[39m \u001b[39m=\u001b[39m \u001b[39mFalse\u001b[39;00m, fs:\u001b[39mint\u001b[39m \u001b[39m=\u001b[39m \u001b[39mNone\u001b[39;00m, only_1k:\u001b[39mbool\u001b[39m \u001b[39m=\u001b[39m \u001b[39mFalse\u001b[39;00m):\n\u001b[1;32m     79\u001b[0m     \u001b[39m\"\"\"Create a grid of random images. using 1k base and then creating the 4k equivalent\u001b[39;00m\n\u001b[1;32m     80\u001b[0m \n\u001b[1;32m     81\u001b[0m \u001b[39m    Args:\u001b[39;00m\n\u001b[0;32m   (...)\u001b[0m\n\u001b[1;32m     93\u001b[0m \u001b[39m        _type_: _description_\u001b[39;00m\n\u001b[1;32m     94\u001b[0m \u001b[39m    \"\"\"\u001b[39;00m    \n\u001b[0;32m---> 95\u001b[0m     imgs, imgs_4k \u001b[39m=\u001b[39m create_random_grid(G_base, grid_size, random_state, full_size, verbose\u001b[39m=\u001b[39;49mverbose, fs\u001b[39m=\u001b[39;49mfs, only_1k\u001b[39m=\u001b[39;49monly_1k)\n\u001b[1;32m     96\u001b[0m     grid \u001b[39m=\u001b[39m torchvision\u001b[39m.\u001b[39mutils\u001b[39m.\u001b[39mmake_grid(imgs, nrow\u001b[39m=\u001b[39mgrid_size) \n\u001b[1;32m     97\u001b[0m     grid_4k \u001b[39m=\u001b[39m torchvision\u001b[39m.\u001b[39mutils\u001b[39m.\u001b[39mmake_grid(imgs_4k, nrow\u001b[39m=\u001b[39mgrid_size) \u001b[39mif\u001b[39;00m \u001b[39mnot\u001b[39;00m only_1k \u001b[39melse\u001b[39;00m \u001b[39mNone\u001b[39;00m\n",
      "File \u001b[0;32m/datawaha/cggroup/cvejica/anyres-gan/grids.py:71\u001b[0m, in \u001b[0;36mcreate_random_grid\u001b[0;34m(G_base, grid_size, random_state, full_size, verbose, fs, only_1k)\u001b[0m\n\u001b[1;32m     70\u001b[0m \u001b[39mdef\u001b[39;00m \u001b[39mcreate_random_grid\u001b[39m(G_base, grid_size, random_state:\u001b[39mint\u001b[39m \u001b[39m=\u001b[39m \u001b[39m19\u001b[39m, full_size:\u001b[39mint\u001b[39m \u001b[39m=\u001b[39m \u001b[39m4096\u001b[39m, verbose:\u001b[39mbool\u001b[39m \u001b[39m=\u001b[39m \u001b[39mFalse\u001b[39;00m, fs:\u001b[39mint\u001b[39m \u001b[39m=\u001b[39m \u001b[39mNone\u001b[39;00m, only_1k:\u001b[39mbool\u001b[39m \u001b[39m=\u001b[39m \u001b[39mFalse\u001b[39;00m):\n\u001b[0;32m---> 71\u001b[0m     imgs, ws_list \u001b[39m=\u001b[39m create_random_grid_1k(G_base, grid_size, random_state, truncation_psi\u001b[39m=\u001b[39;49m\u001b[39m0.5\u001b[39;49m, verbose\u001b[39m=\u001b[39;49mverbose)\n\u001b[1;32m     72\u001b[0m     imgs_4k \u001b[39m=\u001b[39m create_random_grid_4k(G_base, ws_list, grid_size, random_state, full_size, fs\u001b[39m=\u001b[39mfs, verbose\u001b[39m=\u001b[39mverbose) \u001b[39mif\u001b[39;00m \u001b[39mnot\u001b[39;00m only_1k \u001b[39melse\u001b[39;00m \u001b[39mNone\u001b[39;00m\n\u001b[1;32m     73\u001b[0m     \u001b[39mreturn\u001b[39;00m imgs, imgs_4k\n",
      "File \u001b[0;32m/datawaha/cggroup/cvejica/anyres-gan/grids.py:43\u001b[0m, in \u001b[0;36mcreate_random_grid_1k\u001b[0;34m(G_base, grid_size, random_state, truncation_psi, verbose)\u001b[0m\n\u001b[1;32m     41\u001b[0m z \u001b[39m=\u001b[39m z[\u001b[39mNone\u001b[39;00m]\u001b[39m.\u001b[39mcuda()\n\u001b[1;32m     42\u001b[0m c \u001b[39m=\u001b[39m \u001b[39mNone\u001b[39;00m\n\u001b[0;32m---> 43\u001b[0m ws \u001b[39m=\u001b[39m G_base\u001b[39m.\u001b[39;49mmapping(z, c, truncation_psi\u001b[39m=\u001b[39;49mtruncation_psi, truncation_cutoff\u001b[39m=\u001b[39;49m\u001b[39mNone\u001b[39;49;00m) \u001b[39m# default 0.5, 8\u001b[39;00m\n\u001b[1;32m     44\u001b[0m img \u001b[39m=\u001b[39m patch_util\u001b[39m.\u001b[39mscale_condition_wrapper(G_base, ws, transform\u001b[39m=\u001b[39m\u001b[39mNone\u001b[39;00m, noise_mode\u001b[39m=\u001b[39m\u001b[39m'\u001b[39m\u001b[39mconst\u001b[39m\u001b[39m'\u001b[39m, force_fp32\u001b[39m=\u001b[39m\u001b[39mTrue\u001b[39;00m)\n\u001b[1;32m     45\u001b[0m items\u001b[39m.\u001b[39mappend(renormalize\u001b[39m.\u001b[39mas_tensor(img[\u001b[39m0\u001b[39m], target\u001b[39m=\u001b[39m\u001b[39m'\u001b[39m\u001b[39mpt\u001b[39m\u001b[39m'\u001b[39m)) \u001b[39m# 1 x 3 x 1024 x 1024\u001b[39;00m\n",
      "File \u001b[0;32m~/.conda/envs/anyres-gan/lib/python3.8/site-packages/torch/nn/modules/module.py:1102\u001b[0m, in \u001b[0;36mModule._call_impl\u001b[0;34m(self, *input, **kwargs)\u001b[0m\n\u001b[1;32m   1098\u001b[0m \u001b[39m# If we don't have any hooks, we want to skip the rest of the logic in\u001b[39;00m\n\u001b[1;32m   1099\u001b[0m \u001b[39m# this function, and just call forward.\u001b[39;00m\n\u001b[1;32m   1100\u001b[0m \u001b[39mif\u001b[39;00m \u001b[39mnot\u001b[39;00m (\u001b[39mself\u001b[39m\u001b[39m.\u001b[39m_backward_hooks \u001b[39mor\u001b[39;00m \u001b[39mself\u001b[39m\u001b[39m.\u001b[39m_forward_hooks \u001b[39mor\u001b[39;00m \u001b[39mself\u001b[39m\u001b[39m.\u001b[39m_forward_pre_hooks \u001b[39mor\u001b[39;00m _global_backward_hooks\n\u001b[1;32m   1101\u001b[0m         \u001b[39mor\u001b[39;00m _global_forward_hooks \u001b[39mor\u001b[39;00m _global_forward_pre_hooks):\n\u001b[0;32m-> 1102\u001b[0m     \u001b[39mreturn\u001b[39;00m forward_call(\u001b[39m*\u001b[39;49m\u001b[39minput\u001b[39;49m, \u001b[39m*\u001b[39;49m\u001b[39m*\u001b[39;49mkwargs)\n\u001b[1;32m   1103\u001b[0m \u001b[39m# Do not call functions when jit is used\u001b[39;00m\n\u001b[1;32m   1104\u001b[0m full_backward_hooks, non_full_backward_hooks \u001b[39m=\u001b[39m [], []\n",
      "File \u001b[0;32m<string>:153\u001b[0m, in \u001b[0;36mforward\u001b[0;34m(self, z, c, truncation_psi, truncation_cutoff, update_emas)\u001b[0m\n",
      "File \u001b[0;32m~/.conda/envs/anyres-gan/lib/python3.8/site-packages/torch/nn/modules/module.py:1102\u001b[0m, in \u001b[0;36mModule._call_impl\u001b[0;34m(self, *input, **kwargs)\u001b[0m\n\u001b[1;32m   1098\u001b[0m \u001b[39m# If we don't have any hooks, we want to skip the rest of the logic in\u001b[39;00m\n\u001b[1;32m   1099\u001b[0m \u001b[39m# this function, and just call forward.\u001b[39;00m\n\u001b[1;32m   1100\u001b[0m \u001b[39mif\u001b[39;00m \u001b[39mnot\u001b[39;00m (\u001b[39mself\u001b[39m\u001b[39m.\u001b[39m_backward_hooks \u001b[39mor\u001b[39;00m \u001b[39mself\u001b[39m\u001b[39m.\u001b[39m_forward_hooks \u001b[39mor\u001b[39;00m \u001b[39mself\u001b[39m\u001b[39m.\u001b[39m_forward_pre_hooks \u001b[39mor\u001b[39;00m _global_backward_hooks\n\u001b[1;32m   1101\u001b[0m         \u001b[39mor\u001b[39;00m _global_forward_hooks \u001b[39mor\u001b[39;00m _global_forward_pre_hooks):\n\u001b[0;32m-> 1102\u001b[0m     \u001b[39mreturn\u001b[39;00m forward_call(\u001b[39m*\u001b[39;49m\u001b[39minput\u001b[39;49m, \u001b[39m*\u001b[39;49m\u001b[39m*\u001b[39;49mkwargs)\n\u001b[1;32m   1103\u001b[0m \u001b[39m# Do not call functions when jit is used\u001b[39;00m\n\u001b[1;32m   1104\u001b[0m full_backward_hooks, non_full_backward_hooks \u001b[39m=\u001b[39m [], []\n",
      "File \u001b[0;32m<string>:102\u001b[0m, in \u001b[0;36mforward\u001b[0;34m(self, x)\u001b[0m\n",
      "File \u001b[0;32m/datawaha/cggroup/cvejica/anyres-gan/torch_utils/ops/bias_act.py:84\u001b[0m, in \u001b[0;36mbias_act\u001b[0;34m(x, b, dim, act, alpha, gain, clamp, impl)\u001b[0m\n\u001b[1;32m     82\u001b[0m \u001b[39massert\u001b[39;00m \u001b[39misinstance\u001b[39m(x, torch\u001b[39m.\u001b[39mTensor)\n\u001b[1;32m     83\u001b[0m \u001b[39massert\u001b[39;00m impl \u001b[39min\u001b[39;00m [\u001b[39m'\u001b[39m\u001b[39mref\u001b[39m\u001b[39m'\u001b[39m, \u001b[39m'\u001b[39m\u001b[39mcuda\u001b[39m\u001b[39m'\u001b[39m]\n\u001b[0;32m---> 84\u001b[0m \u001b[39mif\u001b[39;00m impl \u001b[39m==\u001b[39m \u001b[39m'\u001b[39m\u001b[39mcuda\u001b[39m\u001b[39m'\u001b[39m \u001b[39mand\u001b[39;00m x\u001b[39m.\u001b[39mdevice\u001b[39m.\u001b[39mtype \u001b[39m==\u001b[39m \u001b[39m'\u001b[39m\u001b[39mcuda\u001b[39m\u001b[39m'\u001b[39m \u001b[39mand\u001b[39;00m _init():\n\u001b[1;32m     85\u001b[0m     \u001b[39mreturn\u001b[39;00m _bias_act_cuda(dim\u001b[39m=\u001b[39mdim, act\u001b[39m=\u001b[39mact, alpha\u001b[39m=\u001b[39malpha, gain\u001b[39m=\u001b[39mgain, clamp\u001b[39m=\u001b[39mclamp)\u001b[39m.\u001b[39mapply(x, b)\n\u001b[1;32m     86\u001b[0m \u001b[39mreturn\u001b[39;00m _bias_act_ref(x\u001b[39m=\u001b[39mx, b\u001b[39m=\u001b[39mb, dim\u001b[39m=\u001b[39mdim, act\u001b[39m=\u001b[39mact, alpha\u001b[39m=\u001b[39malpha, gain\u001b[39m=\u001b[39mgain, clamp\u001b[39m=\u001b[39mclamp)\n",
      "File \u001b[0;32m/datawaha/cggroup/cvejica/anyres-gan/torch_utils/ops/bias_act.py:41\u001b[0m, in \u001b[0;36m_init\u001b[0;34m()\u001b[0m\n\u001b[1;32m     39\u001b[0m \u001b[39mglobal\u001b[39;00m _plugin\n\u001b[1;32m     40\u001b[0m \u001b[39mif\u001b[39;00m _plugin \u001b[39mis\u001b[39;00m \u001b[39mNone\u001b[39;00m:\n\u001b[0;32m---> 41\u001b[0m     _plugin \u001b[39m=\u001b[39m custom_ops\u001b[39m.\u001b[39;49mget_plugin(\n\u001b[1;32m     42\u001b[0m         module_name\u001b[39m=\u001b[39;49m\u001b[39m'\u001b[39;49m\u001b[39mbias_act_plugin\u001b[39;49m\u001b[39m'\u001b[39;49m,\n\u001b[1;32m     43\u001b[0m         sources\u001b[39m=\u001b[39;49m[\u001b[39m'\u001b[39;49m\u001b[39mbias_act.cpp\u001b[39;49m\u001b[39m'\u001b[39;49m, \u001b[39m'\u001b[39;49m\u001b[39mbias_act.cu\u001b[39;49m\u001b[39m'\u001b[39;49m],\n\u001b[1;32m     44\u001b[0m         headers\u001b[39m=\u001b[39;49m[\u001b[39m'\u001b[39;49m\u001b[39mbias_act.h\u001b[39;49m\u001b[39m'\u001b[39;49m],\n\u001b[1;32m     45\u001b[0m         source_dir\u001b[39m=\u001b[39;49mos\u001b[39m.\u001b[39;49mpath\u001b[39m.\u001b[39;49mdirname(\u001b[39m__file__\u001b[39;49m),\n\u001b[1;32m     46\u001b[0m         extra_cuda_cflags\u001b[39m=\u001b[39;49m[\u001b[39m'\u001b[39;49m\u001b[39m--use_fast_math\u001b[39;49m\u001b[39m'\u001b[39;49m],\n\u001b[1;32m     47\u001b[0m     )\n\u001b[1;32m     48\u001b[0m \u001b[39mreturn\u001b[39;00m \u001b[39mTrue\u001b[39;00m\n",
      "File \u001b[0;32m/datawaha/cggroup/cvejica/anyres-gan/torch_utils/custom_ops.py:136\u001b[0m, in \u001b[0;36mget_plugin\u001b[0;34m(module_name, sources, headers, source_dir, **build_kwargs)\u001b[0m\n\u001b[1;32m    134\u001b[0m     \u001b[39m# Compile.\u001b[39;00m\n\u001b[1;32m    135\u001b[0m     cached_sources \u001b[39m=\u001b[39m [os\u001b[39m.\u001b[39mpath\u001b[39m.\u001b[39mjoin(cached_build_dir, os\u001b[39m.\u001b[39mpath\u001b[39m.\u001b[39mbasename(fname)) \u001b[39mfor\u001b[39;00m fname \u001b[39min\u001b[39;00m sources]\n\u001b[0;32m--> 136\u001b[0m     torch\u001b[39m.\u001b[39;49mutils\u001b[39m.\u001b[39;49mcpp_extension\u001b[39m.\u001b[39;49mload(name\u001b[39m=\u001b[39;49mmodule_name, build_directory\u001b[39m=\u001b[39;49mcached_build_dir,\n\u001b[1;32m    137\u001b[0m         verbose\u001b[39m=\u001b[39;49mverbose_build, sources\u001b[39m=\u001b[39;49mcached_sources, \u001b[39m*\u001b[39;49m\u001b[39m*\u001b[39;49mbuild_kwargs)\n\u001b[1;32m    138\u001b[0m \u001b[39melse\u001b[39;00m:\n\u001b[1;32m    139\u001b[0m     torch\u001b[39m.\u001b[39mutils\u001b[39m.\u001b[39mcpp_extension\u001b[39m.\u001b[39mload(name\u001b[39m=\u001b[39mmodule_name, verbose\u001b[39m=\u001b[39mverbose_build, sources\u001b[39m=\u001b[39msources, \u001b[39m*\u001b[39m\u001b[39m*\u001b[39mbuild_kwargs)\n",
      "File \u001b[0;32m~/.conda/envs/anyres-gan/lib/python3.8/site-packages/torch/utils/cpp_extension.py:1124\u001b[0m, in \u001b[0;36mload\u001b[0;34m(name, sources, extra_cflags, extra_cuda_cflags, extra_ldflags, extra_include_paths, build_directory, verbose, with_cuda, is_python_module, is_standalone, keep_intermediates)\u001b[0m\n\u001b[1;32m   1033\u001b[0m \u001b[39mdef\u001b[39;00m \u001b[39mload\u001b[39m(name,\n\u001b[1;32m   1034\u001b[0m          sources: Union[\u001b[39mstr\u001b[39m, List[\u001b[39mstr\u001b[39m]],\n\u001b[1;32m   1035\u001b[0m          extra_cflags\u001b[39m=\u001b[39m\u001b[39mNone\u001b[39;00m,\n\u001b[0;32m   (...)\u001b[0m\n\u001b[1;32m   1043\u001b[0m          is_standalone\u001b[39m=\u001b[39m\u001b[39mFalse\u001b[39;00m,\n\u001b[1;32m   1044\u001b[0m          keep_intermediates\u001b[39m=\u001b[39m\u001b[39mTrue\u001b[39;00m):\n\u001b[1;32m   1045\u001b[0m     \u001b[39mr\u001b[39m\u001b[39m'''\u001b[39;00m\n\u001b[1;32m   1046\u001b[0m \u001b[39m    Loads a PyTorch C++ extension just-in-time (JIT).\u001b[39;00m\n\u001b[1;32m   1047\u001b[0m \n\u001b[0;32m   (...)\u001b[0m\n\u001b[1;32m   1122\u001b[0m \u001b[39m                verbose=True)\u001b[39;00m\n\u001b[1;32m   1123\u001b[0m \u001b[39m    '''\u001b[39;00m\n\u001b[0;32m-> 1124\u001b[0m     \u001b[39mreturn\u001b[39;00m _jit_compile(\n\u001b[1;32m   1125\u001b[0m         name,\n\u001b[1;32m   1126\u001b[0m         [sources] \u001b[39mif\u001b[39;49;00m \u001b[39misinstance\u001b[39;49m(sources, \u001b[39mstr\u001b[39;49m) \u001b[39melse\u001b[39;49;00m sources,\n\u001b[1;32m   1127\u001b[0m         extra_cflags,\n\u001b[1;32m   1128\u001b[0m         extra_cuda_cflags,\n\u001b[1;32m   1129\u001b[0m         extra_ldflags,\n\u001b[1;32m   1130\u001b[0m         extra_include_paths,\n\u001b[1;32m   1131\u001b[0m         build_directory \u001b[39mor\u001b[39;49;00m _get_build_directory(name, verbose),\n\u001b[1;32m   1132\u001b[0m         verbose,\n\u001b[1;32m   1133\u001b[0m         with_cuda,\n\u001b[1;32m   1134\u001b[0m         is_python_module,\n\u001b[1;32m   1135\u001b[0m         is_standalone,\n\u001b[1;32m   1136\u001b[0m         keep_intermediates\u001b[39m=\u001b[39;49mkeep_intermediates)\n",
      "File \u001b[0;32m~/.conda/envs/anyres-gan/lib/python3.8/site-packages/torch/utils/cpp_extension.py:1362\u001b[0m, in \u001b[0;36m_jit_compile\u001b[0;34m(name, sources, extra_cflags, extra_cuda_cflags, extra_ldflags, extra_include_paths, build_directory, verbose, with_cuda, is_python_module, is_standalone, keep_intermediates)\u001b[0m\n\u001b[1;32m   1359\u001b[0m \u001b[39mif\u001b[39;00m is_standalone:\n\u001b[1;32m   1360\u001b[0m     \u001b[39mreturn\u001b[39;00m _get_exec_path(name, build_directory)\n\u001b[0;32m-> 1362\u001b[0m \u001b[39mreturn\u001b[39;00m _import_module_from_library(name, build_directory, is_python_module)\n",
      "File \u001b[0;32m~/.conda/envs/anyres-gan/lib/python3.8/site-packages/torch/utils/cpp_extension.py:1752\u001b[0m, in \u001b[0;36m_import_module_from_library\u001b[0;34m(module_name, path, is_python_module)\u001b[0m\n\u001b[1;32m   1749\u001b[0m \u001b[39mif\u001b[39;00m is_python_module:\n\u001b[1;32m   1750\u001b[0m     \u001b[39m# https://stackoverflow.com/questions/67631/how-to-import-a-module-given-the-full-path\u001b[39;00m\n\u001b[1;32m   1751\u001b[0m     spec \u001b[39m=\u001b[39m importlib\u001b[39m.\u001b[39mutil\u001b[39m.\u001b[39mspec_from_file_location(module_name, filepath)\n\u001b[0;32m-> 1752\u001b[0m     module \u001b[39m=\u001b[39m importlib\u001b[39m.\u001b[39;49mutil\u001b[39m.\u001b[39;49mmodule_from_spec(spec)\n\u001b[1;32m   1753\u001b[0m     \u001b[39massert\u001b[39;00m \u001b[39misinstance\u001b[39m(spec\u001b[39m.\u001b[39mloader, importlib\u001b[39m.\u001b[39mabc\u001b[39m.\u001b[39mLoader)\n\u001b[1;32m   1754\u001b[0m     spec\u001b[39m.\u001b[39mloader\u001b[39m.\u001b[39mexec_module(module)\n",
      "File \u001b[0;32m<frozen importlib._bootstrap>:556\u001b[0m, in \u001b[0;36mmodule_from_spec\u001b[0;34m(spec)\u001b[0m\n",
      "File \u001b[0;32m<frozen importlib._bootstrap_external>:1166\u001b[0m, in \u001b[0;36mcreate_module\u001b[0;34m(self, spec)\u001b[0m\n",
      "File \u001b[0;32m<frozen importlib._bootstrap>:219\u001b[0m, in \u001b[0;36m_call_with_frames_removed\u001b[0;34m(f, *args, **kwds)\u001b[0m\n",
      "\u001b[0;31mImportError\u001b[0m: /home/cvejica/.cache/torch_extensions/py38_cu113/bias_act_plugin/3cb576a0039689487cfba59279dd6d46-nvidia-a100-pcie-40gb/bias_act_plugin.so: cannot open shared object file: No such file or directory"
     ]
    }
   ],
   "source": [
    "# !module purge\n",
    "!module load cudnn\n",
    "g_path = \"training-runs/SS750/00010-stylegan3-r-LR-gpus4-batch32-gamma2/network-snapshot-000000.pkl\"\n",
    "load_and_grid(g_path, grid_size=4, random_state=19, full_size=4096, save_name=\"q00000w\", ext=\".jpg\", folder=\"output\", verbose=True, force_MN=False)"
   ]
  },
  {
   "cell_type": "code",
   "execution_count": 16,
   "metadata": {},
   "outputs": [],
   "source": [
    "from legacy import load_network_pkl\n",
    "gpath = \"pretrained/stylegan3-r-ffhq-1024x1024.pkl\" # pretrained/stylegan3-t-ffhq-1024x1024.pkl\n",
    "with open(gpath, 'rb') as f:\n",
    "    Gr = load_network_pkl(f)['G_ema']\n",
    "from legacy import load_network_pkl\n",
    "gtpath = \"pretrained/stylegan3-t-ffhq-1024x1024.pkl\" # pretrained/stylegan3-t-ffhq-1024x1024.pkl\n",
    "with open(gtpath, 'rb') as f:\n",
    "    G = load_network_pkl(f)['G_ema']"
   ]
  },
  {
   "cell_type": "code",
   "execution_count": 17,
   "metadata": {},
   "outputs": [
    {
     "data": {
      "text/plain": [
       "{'z_dim': 512,\n",
       " 'w_dim': 512,\n",
       " 'channel_base': 32768,\n",
       " 'channel_max': 512,\n",
       " 'mapping_kwargs': {},\n",
       " 'conv_kernel': 3,\n",
       " 'filter_size': 6,\n",
       " 'magnitude_ema_beta': 0.9988915792636801,\n",
       " 'output_scale': 0.25,\n",
       " 'c_dim': 0,\n",
       " 'img_resolution': 1024,\n",
       " 'img_channels': 3,\n",
       " 'use_radial_filters': False}"
      ]
     },
     "execution_count": 17,
     "metadata": {},
     "output_type": "execute_result"
    }
   ],
   "source": [
    "G._init_kwargs"
   ]
  },
  {
   "cell_type": "code",
   "execution_count": 15,
   "metadata": {},
   "outputs": [
    {
     "data": {
      "text/plain": [
       "{'z_dim': 512,\n",
       " 'w_dim': 512,\n",
       " 'channel_base': 65536,\n",
       " 'channel_max': 1024,\n",
       " 'mapping_kwargs': {},\n",
       " 'conv_kernel': 1,\n",
       " 'filter_size': 6,\n",
       " 'magnitude_ema_beta': 0.9988915792636801,\n",
       " 'output_scale': 0.25,\n",
       " 'c_dim': 0,\n",
       " 'img_resolution': 1024,\n",
       " 'img_channels': 3,\n",
       " 'use_radial_filters': True}"
      ]
     },
     "execution_count": 15,
     "metadata": {},
     "output_type": "execute_result"
    }
   ],
   "source": [
    "Gr._init_kwargs"
   ]
  },
  {
   "cell_type": "code",
   "execution_count": null,
   "metadata": {},
   "outputs": [],
   "source": []
  },
  {
   "cell_type": "code",
   "execution_count": 2,
   "metadata": {},
   "outputs": [],
   "source": [
    "from util import patch_util"
   ]
  },
  {
   "cell_type": "code",
   "execution_count": 3,
   "metadata": {},
   "outputs": [],
   "source": [
    "ps = patch_util.PatchSampler(1024, True, True, max_scale=1)"
   ]
  },
  {
   "cell_type": "code",
   "execution_count": null,
   "metadata": {},
   "outputs": [],
   "source": []
  },
  {
   "cell_type": "code",
   "execution_count": null,
   "metadata": {},
   "outputs": [],
   "source": [
    "from PIL import Image\n",
    "random_pil_image = Image.open(\"/datawaha/cggroup/cvejica/SS750/HR/shutterstock_2935644_01.png\")\n",
    "\n",
    "# for i in range(1000):\n",
    "#     img, d = ps.sample_patch(random_pil_image)\n",
    "#     if d['sampled_scale'] != 0.25:\n",
    "#         print(d['sampled_scale'])"
   ]
  },
  {
   "cell_type": "code",
   "execution_count": 15,
   "metadata": {},
   "outputs": [],
   "source": [
    "test = patch_util.generate_full_from_patches(4096, 1024)"
   ]
  },
  {
   "cell_type": "code",
   "execution_count": 4,
   "metadata": {},
   "outputs": [],
   "source": [
    "test = patch_util.generate_full_from_patches(4096, 1024)"
   ]
  },
  {
   "cell_type": "code",
   "execution_count": 18,
   "metadata": {},
   "outputs": [],
   "source": [
    "from util.patch_util import construct_transformation_matrix\n",
    "def test_generate_full_from_patches(new_size=4096, patch_size=1024):\n",
    "    # returns the bounding boxes and transformations needed to \n",
    "    # piece together patches of size patch_size into a \n",
    "    # full image of size new_size\n",
    "    patch_params = []\n",
    "    for y in range(0, new_size, patch_size):\n",
    "        for x in range(0, new_size, patch_size):\n",
    "            if y + patch_size > new_size:\n",
    "                y = new_size - patch_size\n",
    "            if x + patch_size > new_size:\n",
    "                x = new_size - patch_size\n",
    "            limits = [(y/(new_size)*2-1, (y+patch_size) /(new_size)*2-1),\n",
    "              (x/(new_size)*2-1, (x+patch_size) /(new_size)*2-1)]\n",
    "            #transform = construct_transformation_matrix(limits)\n",
    "            #patch_params.append(((y, y+patch_size, x, x+patch_size), transform))\n",
    "            patch_params.append(limits)\n",
    "    return patch_params\n",
    "q = test_generate_full_from_patches()"
   ]
  },
  {
   "cell_type": "code",
   "execution_count": 22,
   "metadata": {},
   "outputs": [
    {
     "name": "stdout",
     "output_type": "stream",
     "text": [
      "0 0\n",
      "0 1024\n",
      "0 2048\n",
      "0 3072\n",
      "1024 0\n",
      "1024 1024\n",
      "1024 2048\n",
      "1024 3072\n",
      "2048 0\n",
      "2048 1024\n",
      "2048 2048\n",
      "2048 3072\n",
      "3072 0\n",
      "3072 1024\n",
      "3072 2048\n",
      "3072 3072\n"
     ]
    }
   ],
   "source": [
    "new_size, patch_size = 4096, 1024\n",
    "points = []\n",
    "for y in range(0, new_size, patch_size):\n",
    "        for x in range(0, new_size, patch_size):\n",
    "            points.append((y, x)) \n",
    "            print(y, x)"
   ]
  },
  {
   "cell_type": "markdown",
   "metadata": {},
   "source": [
    "### 4 Image Example"
   ]
  },
  {
   "cell_type": "code",
   "execution_count": 220,
   "metadata": {},
   "outputs": [],
   "source": [
    "from PIL import Image\n",
    "\n",
    "import einops\n",
    "from torchvision.transforms import ToTensor, ToPILImage\n",
    "import torch\n",
    "\n",
    "img_size  = 64\n",
    "\n",
    "list_of_images_names = ['yellow', 'green', 'blue', 'red', 'brown', 'azure', 'orange', 'violet', 'white', 'black', 'gray', 'silver', 'gold', 'indigo', 'pink', 'purple']\n",
    "list_of_images = [ToTensor()(Image.new('RGB', (img_size, img_size), color = c)) for c in list_of_images_names]\n",
    "\n",
    "# purple_image = ToTensor()(Image.new('RGB', (img_size, img_size), color = 'purple'))\n",
    "# pink_image = ToTensor()(Image.new('RGB', (img_size, img_size), color = 'pink'))\n",
    "# list_of_images[4] = purple_image\n",
    "# list_of_images[5] = pink_image"
   ]
  },
  {
   "cell_type": "code",
   "execution_count": null,
   "metadata": {},
   "outputs": [],
   "source": [
    "import torch\n",
    "# torch.nn.functional.interpolate"
   ]
  },
  {
   "cell_type": "code",
   "execution_count": 40,
   "metadata": {},
   "outputs": [],
   "source": [
    "import numpy as np\n",
    "SUB_PIXEL = 1\n",
    "tx = np.linspace(-2*SUB_PIXEL, 2*SUB_PIXEL, 4).reshape(1,4).repeat(4, axis=0)\n",
    "ty = np.linspace(-2*SUB_PIXEL, 2*SUB_PIXEL, 4).reshape(4,1).repeat(4, axis=1)\n"
   ]
  },
  {
   "cell_type": "code",
   "execution_count": 41,
   "metadata": {},
   "outputs": [
    {
     "data": {
      "text/plain": [
       "array([[-2.        , -2.        , -2.        , -2.        ],\n",
       "       [-0.66666667, -0.66666667, -0.66666667, -0.66666667],\n",
       "       [ 0.66666667,  0.66666667,  0.66666667,  0.66666667],\n",
       "       [ 2.        ,  2.        ,  2.        ,  2.        ]])"
      ]
     },
     "execution_count": 41,
     "metadata": {},
     "output_type": "execute_result"
    }
   ],
   "source": [
    "ty"
   ]
  },
  {
   "cell_type": "code",
   "execution_count": 39,
   "metadata": {},
   "outputs": [
    {
     "data": {
      "text/plain": [
       "array([[-2.        , -0.66666667,  0.66666667,  2.        ],\n",
       "       [-2.        , -0.66666667,  0.66666667,  2.        ],\n",
       "       [-2.        , -0.66666667,  0.66666667,  2.        ],\n",
       "       [-2.        , -0.66666667,  0.66666667,  2.        ]])"
      ]
     },
     "execution_count": 39,
     "metadata": {},
     "output_type": "execute_result"
    }
   ],
   "source": [
    "values"
   ]
  },
  {
   "cell_type": "code",
   "execution_count": 5,
   "metadata": {},
   "outputs": [
    {
     "data": {
      "text/plain": [
       "([((0, 1024, 0, 1024),\n",
       "   tensor([[1., 0., 0.],\n",
       "           [0., 1., 0.],\n",
       "           [0., 0., 1.]])),\n",
       "  ((0, 1024, 0, 1024),\n",
       "   tensor([[1.0000e+00, 0.0000e+00, 3.2552e-04],\n",
       "           [0.0000e+00, 1.0000e+00, 0.0000e+00],\n",
       "           [0.0000e+00, 0.0000e+00, 1.0000e+00]])),\n",
       "  ((0, 1024, 0, 1024),\n",
       "   tensor([[1.0000e+00, 0.0000e+00, 6.5104e-04],\n",
       "           [0.0000e+00, 1.0000e+00, 0.0000e+00],\n",
       "           [0.0000e+00, 0.0000e+00, 1.0000e+00]])),\n",
       "  ((0, 1024, 0, 1024),\n",
       "   tensor([[1.0000e+00, 0.0000e+00, 9.7656e-04],\n",
       "           [0.0000e+00, 1.0000e+00, 0.0000e+00],\n",
       "           [0.0000e+00, 0.0000e+00, 1.0000e+00]])),\n",
       "  ((0, 1024, 0, 1024),\n",
       "   tensor([[1.0000e+00, 0.0000e+00, 0.0000e+00],\n",
       "           [0.0000e+00, 1.0000e+00, 3.2552e-04],\n",
       "           [0.0000e+00, 0.0000e+00, 1.0000e+00]])),\n",
       "  ((0, 1024, 0, 1024),\n",
       "   tensor([[1.0000e+00, 0.0000e+00, 3.2552e-04],\n",
       "           [0.0000e+00, 1.0000e+00, 3.2552e-04],\n",
       "           [0.0000e+00, 0.0000e+00, 1.0000e+00]])),\n",
       "  ((0, 1024, 0, 1024),\n",
       "   tensor([[1.0000e+00, 0.0000e+00, 6.5104e-04],\n",
       "           [0.0000e+00, 1.0000e+00, 3.2552e-04],\n",
       "           [0.0000e+00, 0.0000e+00, 1.0000e+00]])),\n",
       "  ((0, 1024, 0, 1024),\n",
       "   tensor([[1.0000e+00, 0.0000e+00, 9.7656e-04],\n",
       "           [0.0000e+00, 1.0000e+00, 3.2552e-04],\n",
       "           [0.0000e+00, 0.0000e+00, 1.0000e+00]])),\n",
       "  ((0, 1024, 0, 1024),\n",
       "   tensor([[1.0000e+00, 0.0000e+00, 0.0000e+00],\n",
       "           [0.0000e+00, 1.0000e+00, 6.5104e-04],\n",
       "           [0.0000e+00, 0.0000e+00, 1.0000e+00]])),\n",
       "  ((0, 1024, 0, 1024),\n",
       "   tensor([[1.0000e+00, 0.0000e+00, 3.2552e-04],\n",
       "           [0.0000e+00, 1.0000e+00, 6.5104e-04],\n",
       "           [0.0000e+00, 0.0000e+00, 1.0000e+00]])),\n",
       "  ((0, 1024, 0, 1024),\n",
       "   tensor([[1.0000e+00, 0.0000e+00, 6.5104e-04],\n",
       "           [0.0000e+00, 1.0000e+00, 6.5104e-04],\n",
       "           [0.0000e+00, 0.0000e+00, 1.0000e+00]])),\n",
       "  ((0, 1024, 0, 1024),\n",
       "   tensor([[1.0000e+00, 0.0000e+00, 9.7656e-04],\n",
       "           [0.0000e+00, 1.0000e+00, 6.5104e-04],\n",
       "           [0.0000e+00, 0.0000e+00, 1.0000e+00]])),\n",
       "  ((0, 1024, 0, 1024),\n",
       "   tensor([[1.0000e+00, 0.0000e+00, 0.0000e+00],\n",
       "           [0.0000e+00, 1.0000e+00, 9.7656e-04],\n",
       "           [0.0000e+00, 0.0000e+00, 1.0000e+00]])),\n",
       "  ((0, 1024, 0, 1024),\n",
       "   tensor([[1.0000e+00, 0.0000e+00, 3.2552e-04],\n",
       "           [0.0000e+00, 1.0000e+00, 9.7656e-04],\n",
       "           [0.0000e+00, 0.0000e+00, 1.0000e+00]])),\n",
       "  ((0, 1024, 0, 1024),\n",
       "   tensor([[1.0000e+00, 0.0000e+00, 6.5104e-04],\n",
       "           [0.0000e+00, 1.0000e+00, 9.7656e-04],\n",
       "           [0.0000e+00, 0.0000e+00, 1.0000e+00]])),\n",
       "  ((0, 1024, 0, 1024),\n",
       "   tensor([[1.0000e+00, 0.0000e+00, 9.7656e-04],\n",
       "           [0.0000e+00, 1.0000e+00, 9.7656e-04],\n",
       "           [0.0000e+00, 0.0000e+00, 1.0000e+00]]))],\n",
       " tensor([[0.0000, 0.0003, 0.0007, 0.0010],\n",
       "         [0.0000, 0.0003, 0.0007, 0.0010],\n",
       "         [0.0000, 0.0003, 0.0007, 0.0010],\n",
       "         [0.0000, 0.0003, 0.0007, 0.0010]]),\n",
       " tensor([[0.0000, 0.0000, 0.0000, 0.0000],\n",
       "         [0.0003, 0.0003, 0.0003, 0.0003],\n",
       "         [0.0007, 0.0007, 0.0007, 0.0007],\n",
       "         [0.0010, 0.0010, 0.0010, 0.0010]]))"
      ]
     },
     "execution_count": 5,
     "metadata": {},
     "output_type": "execute_result"
    }
   ],
   "source": [
    "from gen_videos import create_patch_info_split\n",
    "create_patch_info_split()"
   ]
  },
  {
   "cell_type": "code",
   "execution_count": 30,
   "metadata": {},
   "outputs": [
    {
     "name": "stdout",
     "output_type": "stream",
     "text": [
      "tx_matrix\n",
      "[[0.         0.33333334 0.6666667  1.        ]\n",
      " [0.         0.3333333  0.6666666  1.        ]\n",
      " [0.         0.33333334 0.6666667  1.        ]\n",
      " [0.         0.33333334 0.6666667  1.        ]]\n",
      "ty_matrix\n",
      "[[0.         0.         0.         0.        ]\n",
      " [0.33333334 0.3333333  0.33333334 0.33333334]\n",
      " [0.6666667  0.6666666  0.6666667  0.6666667 ]\n",
      " [1.         1.         1.         1.        ]]\n"
     ]
    }
   ],
   "source": [
    "SUB_PIXEL = 1\n",
    "PIXEL_LEN = 1.0 #1/1024\n",
    "import numpy as np \n",
    "import torch\n",
    "\n",
    "\n",
    "tx = torch.tensor([[0, PIXEL_LEN], [0, PIXEL_LEN]]).unsqueeze(0).unsqueeze(0)\n",
    "ty = torch.tensor([[0, 0], [PIXEL_LEN, PIXEL_LEN]]).unsqueeze(0).unsqueeze(0)\n",
    "tx_matrix = torch.nn.functional.interpolate(tx, size=4, mode='bilinear', align_corners=True).squeeze(0).squeeze(0).numpy()\n",
    "print(f\"tx_matrix\\n{tx_matrix}\")\n",
    "ty_matrix = torch.nn.functional.interpolate(ty, size=4, mode='bilinear', align_corners=True).squeeze(0).squeeze(0).numpy()\n",
    "print(f\"ty_matrix\\n{ty_matrix}\")"
   ]
  },
  {
   "cell_type": "code",
   "execution_count": 10,
   "metadata": {},
   "outputs": [],
   "source": [
    "import numpy as np\n",
    "from gen_videos import create_patch_info_split\n",
    "w, tx, ty = create_patch_info_split(PIXEL_LEN=1)"
   ]
  },
  {
   "cell_type": "code",
   "execution_count": 11,
   "metadata": {},
   "outputs": [
    {
     "data": {
      "text/plain": [
       "tensor([[0.0000, 0.2500, 0.5000, 0.7500],\n",
       "        [0.0000, 0.2500, 0.5000, 0.7500],\n",
       "        [0.0000, 0.2500, 0.5000, 0.7500],\n",
       "        [0.0000, 0.2500, 0.5000, 0.7500]])"
      ]
     },
     "execution_count": 11,
     "metadata": {},
     "output_type": "execute_result"
    }
   ],
   "source": [
    "tx"
   ]
  },
  {
   "cell_type": "code",
   "execution_count": 16,
   "metadata": {},
   "outputs": [
    {
     "name": "stdout",
     "output_type": "stream",
     "text": [
      "ty:\n",
      "tensor([[0.0000, 0.0000, 0.0000, 0.0000],\n",
      "        [0.2500, 0.2500, 0.2500, 0.2500],\n",
      "        [0.5000, 0.5000, 0.5000, 0.5000],\n",
      "        [0.7500, 0.7500, 0.7500, 0.7500]])\n"
     ]
    }
   ],
   "source": [
    "print(f\"ty:\\n{ty}\")"
   ]
  },
  {
   "cell_type": "code",
   "execution_count": 233,
   "metadata": {},
   "outputs": [
    {
     "name": "stdout",
     "output_type": "stream",
     "text": [
      "torch.Size([16, 64, 64, 3])\n",
      "torch.Size([256, 256, 3])\n"
     ]
    },
    {
     "data": {
      "image/png": "[encoded data removed]",
      "text/plain": [
       "<Figure size 640x480 with 1 Axes>"
      ]
     },
     "metadata": {},
     "output_type": "display_data"
    }
   ],
   "source": [
    "stacked = torch.stack(list_of_images, dim=0).permute(0, 2, 3, 1)\n",
    "print(stacked.shape)\n",
    "w = einops.rearrange(stacked, '(b1 b2) (h1 h2) (w1 w2) c -> (h1 b1 h2) (w1 b2 w2) c', h1=img_size, w1=img_size, b2=4, c=3)\n",
    "print(w.shape)\n",
    "# display w\n",
    "img = ToPILImage()(w.permute(2, 0, 1))\n",
    "#save \n",
    "img.save(\"test.png\")\n",
    "\n",
    "# Display only first quarter of the image, with labels for each color, as to which is it in the list order\n",
    "from matplotlib import pyplot as plt\n",
    "img_cut = img.crop((0, 0, 32, 32))\n",
    "\n",
    "# \n",
    "\n",
    "im = plt.imshow(img_cut)\n",
    "colors = [ im.cmap(im.norm(value)) for value in values]\n",
    "plt.show()\n",
    "# fig, ax = plt.subplots(figsize=(10, 10))\n",
    "\n",
    "# ax.imshow(img_cut, interpolation='none')\n",
    "# #ax.legend([f\"{c}={i}\" for i, c in enumerate(list_of_images_names)]) # , loc='upper left', bbox_to_anchor=(1, 1)\n",
    "# ax.text(60, 5, \"\\n\".join([f\"{c}={i}\" for i, c in enumerate(list_of_images_names)]), fontsize=12, color='white')\n",
    "# plt.show()\n",
    "# # add legend to plt\n",
    "\n",
    "\n",
    "\n"
   ]
  },
  {
   "cell_type": "code",
   "execution_count": 184,
   "metadata": {},
   "outputs": [
    {
     "name": "stdout",
     "output_type": "stream",
     "text": [
      "torch.Size([16, 1024, 1024, 3])\n"
     ]
    }
   ],
   "source": [
    "combined_image = einops.rearrange(list_of_images, \"b c h w -> b h w c\", h=1024, w=1024)\n",
    "print(combined_image.shape)"
   ]
  },
  {
   "cell_type": "code",
   "execution_count": 187,
   "metadata": {},
   "outputs": [
    {
     "data": {
      "text/plain": [
       "torch.Size([16777216, 3])"
      ]
     },
     "execution_count": 187,
     "metadata": {},
     "output_type": "execute_result"
    }
   ],
   "source": [
    "combined_image2 = einops.rearrange(combined_image, \"b h w c -> (b h w) c\", b=16, h=1024, w=1024)\n",
    "combined_image2.shape"
   ]
  },
  {
   "cell_type": "code",
   "execution_count": 237,
   "metadata": {},
   "outputs": [],
   "source": [
    "patches = patch_util.generate_full_from_patches(output_resolution, G_base.img_resolution)"
   ]
  },
  {
   "cell_type": "code",
   "execution_count": 240,
   "metadata": {},
   "outputs": [
    {
     "data": {
      "text/plain": [
       "(0, 1024, 0, 1024)"
      ]
     },
     "execution_count": 240,
     "metadata": {},
     "output_type": "execute_result"
    }
   ],
   "source": [
    "patches[0][0]"
   ]
  },
  {
   "cell_type": "code",
   "execution_count": 241,
   "metadata": {},
   "outputs": [
    {
     "data": {
      "text/plain": [
       "tensor([[1., 0., 0.],\n",
       "        [0., 1., 0.],\n",
       "        [0., 0., 1.]])"
      ]
     },
     "execution_count": 241,
     "metadata": {},
     "output_type": "execute_result"
    }
   ],
   "source": [
    "patches[0][1]"
   ]
  },
  {
   "cell_type": "code",
   "execution_count": 248,
   "metadata": {},
   "outputs": [
    {
     "data": {
      "text/plain": [
       "[-0.0001220703125, -6.103515625e-05, 0.0, 6.103515625e-05]"
      ]
     },
     "execution_count": 248,
     "metadata": {},
     "output_type": "execute_result"
    }
   ],
   "source": [
    "SUB_PIXEL = 0.25/(1024*4)\n",
    "list(np.arange(-2*SUB_PIXEL, 2*SUB_PIXEL, SUB_PIXEL))"
   ]
  },
  {
   "cell_type": "code",
   "execution_count": null,
   "metadata": {},
   "outputs": [],
   "source": [
    "SUB_PIXEL = 0.25/(1024*4)\n",
    "list(np.arange(-8*SUB_PIXEL, 8*SUB_PIXEL, SUB_PIXEL))"
   ]
  },
  {
   "cell_type": "code",
   "execution_count": 1,
   "metadata": {},
   "outputs": [
    {
     "name": "stdout",
     "output_type": "stream",
     "text": [
      "Autoloading cuda/10.2.89/gcc-7.5.0-jr6kobf\u001b[m\n",
      "Autoloading libxml2/2.9.9/gcc-7.5.0-ouvtc2l\u001b[m\n",
      "Autoloading libiconv/1.16/gcc-7.5.0-pndwbk6\u001b[m\n",
      "Autoloading xz/5.2.4/gcc-7.5.0-55h4brm\u001b[m\n",
      "Autoloading zlib/1.2.11/gcc-7.5.0-dsnnbcq\u001b[m\n",
      "\u001b[K\u001b[?1l\u001b>"
     ]
    }
   ],
   "source": [
    "!module load cudnn"
   ]
  },
  {
   "cell_type": "code",
   "execution_count": 2,
   "metadata": {},
   "outputs": [
    {
     "name": "stdout",
     "output_type": "stream",
     "text": [
      "Saving to outputs/p000000/g4_m1_n1024\n"
     ]
    },
    {
     "name": "stderr",
     "output_type": "stream",
     "text": [
      "Generating different images:   0%|          | 0/16 [00:00<?, ?it/s]"
     ]
    },
    {
     "name": "stdout",
     "output_type": "stream",
     "text": [
      "Setting up PyTorch plugin \"filtered_lrelu_plugin\"... "
     ]
    },
    {
     "name": "stderr",
     "output_type": "stream",
     "text": [
      "                                                                   "
     ]
    },
    {
     "name": "stdout",
     "output_type": "stream",
     "text": [
      "Failed!\n"
     ]
    },
    {
     "name": "stderr",
     "output_type": "stream",
     "text": [
      "\r"
     ]
    },
    {
     "ename": "OSError",
     "evalue": "CUDA_HOME environment variable is not set. Please set it to your CUDA install root.",
     "output_type": "error",
     "traceback": [
      "\u001b[0;31m---------------------------------------------------------------------------\u001b[0m",
      "\u001b[0;31mOSError\u001b[0m                                   Traceback (most recent call last)",
      "Cell \u001b[0;32mIn[2], line 5\u001b[0m\n\u001b[1;32m      3\u001b[0m G_base, ws_list \u001b[39m=\u001b[39m load_G(), load_ws()\n\u001b[1;32m      4\u001b[0m \u001b[39m#generate_different_images_split(list(range(len(ws_list))), ws_list, G_base, output_resolution=4096, output_format=\"png\", grid=4, extra=\"p000000/\", mov_scale=0.25, num_pixels=1024)\u001b[39;00m\n\u001b[0;32m----> 5\u001b[0m generate_different_images_split(\u001b[39mlist\u001b[39;49m(\u001b[39mrange\u001b[39;49m(\u001b[39mlen\u001b[39;49m(ws_list))), ws_list, G_base, output_resolution\u001b[39m=\u001b[39;49m\u001b[39m4096\u001b[39;49m, output_format\u001b[39m=\u001b[39;49m\u001b[39m\"\u001b[39;49m\u001b[39mpng\u001b[39;49m\u001b[39m\"\u001b[39;49m, grid\u001b[39m=\u001b[39;49m\u001b[39m4\u001b[39;49m, extra\u001b[39m=\u001b[39;49m\u001b[39m\"\u001b[39;49m\u001b[39mp000000/\u001b[39;49m\u001b[39m\"\u001b[39;49m, mov_scale\u001b[39m=\u001b[39;49m\u001b[39m1\u001b[39;49m, num_pixels\u001b[39m=\u001b[39;49m\u001b[39m1024\u001b[39;49m)\n",
      "File \u001b[0;32m/datawaha/cggroup/cvejica/anyres-gan/gen_videos.py:211\u001b[0m, in \u001b[0;36mgenerate_different_images_split\u001b[0;34m(selected, ws_list, G_base, output_resolution, output_format, grid, extra, mov_scale, num_pixels)\u001b[0m\n\u001b[1;32m    209\u001b[0m output_folder_and_file \u001b[39m=\u001b[39m \u001b[39mf\u001b[39m\u001b[39m\"\u001b[39m\u001b[39m{\u001b[39;00mfolder_location\u001b[39m}\u001b[39;00m\u001b[39m/result_\u001b[39m\u001b[39m{\u001b[39;00mi\u001b[39m}\u001b[39;00m\u001b[39m\"\u001b[39m\n\u001b[1;32m    210\u001b[0m patches \u001b[39m=\u001b[39m create_patch_info_split(output_resolution, grid\u001b[39m=\u001b[39mgrid, SUB_PIXEL\u001b[39m=\u001b[39mSUB_PIXEL)\n\u001b[0;32m--> 211\u001b[0m frames \u001b[39m=\u001b[39m generate_frames(G_base, patches, ws_list[i], write_text_on_images\u001b[39m=\u001b[39;49m\u001b[39mFalse\u001b[39;49;00m)\n\u001b[1;32m    212\u001b[0m final_frame \u001b[39m=\u001b[39m combine_split_intertwine_pixels(frames)\n\u001b[1;32m    213\u001b[0m write_frames_to_file(final_frame, output_folder_and_file, output_format)\n",
      "File \u001b[0;32m/datawaha/cggroup/cvejica/anyres-gan/gen_videos.py:103\u001b[0m, in \u001b[0;36mgenerate_frames\u001b[0;34m(G, patches, ws, write_text_on_images)\u001b[0m\n\u001b[1;32m     99\u001b[0m myFont \u001b[39m=\u001b[39m ImageFont\u001b[39m.\u001b[39mtruetype(\u001b[39m'\u001b[39m\u001b[39mFreeMono.ttf\u001b[39m\u001b[39m'\u001b[39m, \u001b[39m20\u001b[39m)\n\u001b[1;32m    100\u001b[0m \u001b[39mfor\u001b[39;00m i \u001b[39min\u001b[39;00m \u001b[39mrange\u001b[39m(\u001b[39mlen\u001b[39m(patches)):\n\u001b[1;32m    101\u001b[0m     \u001b[39m#frame = G_base.synthesis(patches[i], noise_mode='const')\u001b[39;00m\n\u001b[1;32m    102\u001b[0m     \u001b[39m#frame = (frame + 1) / 2\u001b[39;00m\n\u001b[0;32m--> 103\u001b[0m     frame \u001b[39m=\u001b[39m create_random_grid_4k(G, [ws], [patches[i]], grid_size\u001b[39m=\u001b[39;49m\u001b[39m1\u001b[39;49m, random_state\u001b[39m=\u001b[39;49m\u001b[39m19\u001b[39;49m, full_size\u001b[39m=\u001b[39;49m\u001b[39m1024\u001b[39;49m, fs\u001b[39m=\u001b[39;49m\u001b[39mNone\u001b[39;49;00m, verbose\u001b[39m=\u001b[39;49m\u001b[39mFalse\u001b[39;49;00m)\n\u001b[1;32m    105\u001b[0m     \u001b[39mif\u001b[39;00m \u001b[39mnot\u001b[39;00m write_text_on_images:\n\u001b[1;32m    106\u001b[0m         frames\u001b[39m.\u001b[39mappend(frame \u001b[39mif\u001b[39;00m \u001b[39misinstance\u001b[39m(frame, torch\u001b[39m.\u001b[39mTensor) \u001b[39melse\u001b[39;00m frame[\u001b[39m0\u001b[39m])\n",
      "File \u001b[0;32m/datawaha/cggroup/cvejica/anyres-gan/grids.py:64\u001b[0m, in \u001b[0;36mcreate_random_grid_4k\u001b[0;34m(G_base, ws_list, patches, grid_size, random_state, full_size, fs, verbose)\u001b[0m\n\u001b[1;32m     62\u001b[0m         transform[\u001b[39m0\u001b[39m, \u001b[39m0\u001b[39m] \u001b[39m=\u001b[39m fs\n\u001b[1;32m     63\u001b[0m         transform[\u001b[39m1\u001b[39m, \u001b[39m1\u001b[39m] \u001b[39m=\u001b[39m fs\n\u001b[0;32m---> 64\u001b[0m     img \u001b[39m=\u001b[39m patch_util\u001b[39m.\u001b[39;49mscale_condition_wrapper(G_base, ws_list[i], transform[\u001b[39mNone\u001b[39;49;00m]\u001b[39m.\u001b[39;49mcuda(), noise_mode\u001b[39m=\u001b[39;49m\u001b[39m'\u001b[39;49m\u001b[39mconst\u001b[39;49m\u001b[39m'\u001b[39;49m, force_fp32\u001b[39m=\u001b[39;49m\u001b[39mTrue\u001b[39;49;00m)\n\u001b[1;32m     65\u001b[0m     full[:, :, bbox[\u001b[39m0\u001b[39m]:bbox[\u001b[39m1\u001b[39m], bbox[\u001b[39m2\u001b[39m]:bbox[\u001b[39m3\u001b[39m]] \u001b[39m=\u001b[39m img\n\u001b[1;32m     66\u001b[0m img \u001b[39m=\u001b[39m renormalize\u001b[39m.\u001b[39mas_tensor(full[\u001b[39m0\u001b[39m], target\u001b[39m=\u001b[39m\u001b[39m'\u001b[39m\u001b[39mpt\u001b[39m\u001b[39m'\u001b[39m)\n",
      "File \u001b[0;32m/datawaha/cggroup/cvejica/anyres-gan/util/patch_util.py:128\u001b[0m, in \u001b[0;36mscale_condition_wrapper\u001b[0;34m(G, w, transform, **kwargs)\u001b[0m\n\u001b[1;32m    126\u001b[0m     \u001b[39mreturn\u001b[39;00m img\n\u001b[1;32m    127\u001b[0m scale, mapped_scale \u001b[39m=\u001b[39m compute_scale_inputs(G, w, transform)\n\u001b[0;32m--> 128\u001b[0m img \u001b[39m=\u001b[39m G\u001b[39m.\u001b[39;49msynthesis(w, mapped_scale\u001b[39m=\u001b[39;49mmapped_scale, transform\u001b[39m=\u001b[39;49mtransform, \u001b[39m*\u001b[39;49m\u001b[39m*\u001b[39;49mkwargs)\n\u001b[1;32m    129\u001b[0m \u001b[39mreturn\u001b[39;00m img\n",
      "File \u001b[0;32m~/.conda/envs/anyres-gan/lib/python3.8/site-packages/torch/nn/modules/module.py:1102\u001b[0m, in \u001b[0;36mModule._call_impl\u001b[0;34m(self, *input, **kwargs)\u001b[0m\n\u001b[1;32m   1098\u001b[0m \u001b[39m# If we don't have any hooks, we want to skip the rest of the logic in\u001b[39;00m\n\u001b[1;32m   1099\u001b[0m \u001b[39m# this function, and just call forward.\u001b[39;00m\n\u001b[1;32m   1100\u001b[0m \u001b[39mif\u001b[39;00m \u001b[39mnot\u001b[39;00m (\u001b[39mself\u001b[39m\u001b[39m.\u001b[39m_backward_hooks \u001b[39mor\u001b[39;00m \u001b[39mself\u001b[39m\u001b[39m.\u001b[39m_forward_hooks \u001b[39mor\u001b[39;00m \u001b[39mself\u001b[39m\u001b[39m.\u001b[39m_forward_pre_hooks \u001b[39mor\u001b[39;00m _global_backward_hooks\n\u001b[1;32m   1101\u001b[0m         \u001b[39mor\u001b[39;00m _global_forward_hooks \u001b[39mor\u001b[39;00m _global_forward_pre_hooks):\n\u001b[0;32m-> 1102\u001b[0m     \u001b[39mreturn\u001b[39;00m forward_call(\u001b[39m*\u001b[39;49m\u001b[39minput\u001b[39;49m, \u001b[39m*\u001b[39;49m\u001b[39m*\u001b[39;49mkwargs)\n\u001b[1;32m   1103\u001b[0m \u001b[39m# Do not call functions when jit is used\u001b[39;00m\n\u001b[1;32m   1104\u001b[0m full_backward_hooks, non_full_backward_hooks \u001b[39m=\u001b[39m [], []\n",
      "File \u001b[0;32m<string>:638\u001b[0m, in \u001b[0;36mforward\u001b[0;34m(self, ws, mapped_scale, transform, crop_fn, **layer_kwargs)\u001b[0m\n",
      "File \u001b[0;32m~/.conda/envs/anyres-gan/lib/python3.8/site-packages/torch/nn/modules/module.py:1102\u001b[0m, in \u001b[0;36mModule._call_impl\u001b[0;34m(self, *input, **kwargs)\u001b[0m\n\u001b[1;32m   1098\u001b[0m \u001b[39m# If we don't have any hooks, we want to skip the rest of the logic in\u001b[39;00m\n\u001b[1;32m   1099\u001b[0m \u001b[39m# this function, and just call forward.\u001b[39;00m\n\u001b[1;32m   1100\u001b[0m \u001b[39mif\u001b[39;00m \u001b[39mnot\u001b[39;00m (\u001b[39mself\u001b[39m\u001b[39m.\u001b[39m_backward_hooks \u001b[39mor\u001b[39;00m \u001b[39mself\u001b[39m\u001b[39m.\u001b[39m_forward_hooks \u001b[39mor\u001b[39;00m \u001b[39mself\u001b[39m\u001b[39m.\u001b[39m_forward_pre_hooks \u001b[39mor\u001b[39;00m _global_backward_hooks\n\u001b[1;32m   1101\u001b[0m         \u001b[39mor\u001b[39;00m _global_forward_hooks \u001b[39mor\u001b[39;00m _global_forward_pre_hooks):\n\u001b[0;32m-> 1102\u001b[0m     \u001b[39mreturn\u001b[39;00m forward_call(\u001b[39m*\u001b[39;49m\u001b[39minput\u001b[39;49m, \u001b[39m*\u001b[39;49m\u001b[39m*\u001b[39;49mkwargs)\n\u001b[1;32m   1103\u001b[0m \u001b[39m# Do not call functions when jit is used\u001b[39;00m\n\u001b[1;32m   1104\u001b[0m full_backward_hooks, non_full_backward_hooks \u001b[39m=\u001b[39m [], []\n",
      "File \u001b[0;32m<string>:507\u001b[0m, in \u001b[0;36mforward\u001b[0;34m(self, x, w, scale, noise_mode, force_fp32, update_emas)\u001b[0m\n",
      "File \u001b[0;32m/datawaha/cggroup/cvejica/anyres-gan/torch_utils/ops/filtered_lrelu.py:114\u001b[0m, in \u001b[0;36mfiltered_lrelu\u001b[0;34m(x, fu, fd, b, up, down, padding, gain, slope, clamp, flip_filter, impl)\u001b[0m\n\u001b[1;32m    112\u001b[0m \u001b[39massert\u001b[39;00m \u001b[39misinstance\u001b[39m(x, torch\u001b[39m.\u001b[39mTensor)\n\u001b[1;32m    113\u001b[0m \u001b[39massert\u001b[39;00m impl \u001b[39min\u001b[39;00m [\u001b[39m'\u001b[39m\u001b[39mref\u001b[39m\u001b[39m'\u001b[39m, \u001b[39m'\u001b[39m\u001b[39mcuda\u001b[39m\u001b[39m'\u001b[39m]\n\u001b[0;32m--> 114\u001b[0m \u001b[39mif\u001b[39;00m impl \u001b[39m==\u001b[39m \u001b[39m'\u001b[39m\u001b[39mcuda\u001b[39m\u001b[39m'\u001b[39m \u001b[39mand\u001b[39;00m x\u001b[39m.\u001b[39mdevice\u001b[39m.\u001b[39mtype \u001b[39m==\u001b[39m \u001b[39m'\u001b[39m\u001b[39mcuda\u001b[39m\u001b[39m'\u001b[39m \u001b[39mand\u001b[39;00m _init():\n\u001b[1;32m    115\u001b[0m     \u001b[39mreturn\u001b[39;00m _filtered_lrelu_cuda(up\u001b[39m=\u001b[39mup, down\u001b[39m=\u001b[39mdown, padding\u001b[39m=\u001b[39mpadding, gain\u001b[39m=\u001b[39mgain, slope\u001b[39m=\u001b[39mslope, clamp\u001b[39m=\u001b[39mclamp, flip_filter\u001b[39m=\u001b[39mflip_filter)\u001b[39m.\u001b[39mapply(x, fu, fd, b, \u001b[39mNone\u001b[39;00m, \u001b[39m0\u001b[39m, \u001b[39m0\u001b[39m)\n\u001b[1;32m    116\u001b[0m \u001b[39mreturn\u001b[39;00m _filtered_lrelu_ref(x, fu\u001b[39m=\u001b[39mfu, fd\u001b[39m=\u001b[39mfd, b\u001b[39m=\u001b[39mb, up\u001b[39m=\u001b[39mup, down\u001b[39m=\u001b[39mdown, padding\u001b[39m=\u001b[39mpadding, gain\u001b[39m=\u001b[39mgain, slope\u001b[39m=\u001b[39mslope, clamp\u001b[39m=\u001b[39mclamp, flip_filter\u001b[39m=\u001b[39mflip_filter)\n",
      "File \u001b[0;32m/datawaha/cggroup/cvejica/anyres-gan/torch_utils/ops/filtered_lrelu.py:26\u001b[0m, in \u001b[0;36m_init\u001b[0;34m()\u001b[0m\n\u001b[1;32m     24\u001b[0m \u001b[39mglobal\u001b[39;00m _plugin\n\u001b[1;32m     25\u001b[0m \u001b[39mif\u001b[39;00m _plugin \u001b[39mis\u001b[39;00m \u001b[39mNone\u001b[39;00m:\n\u001b[0;32m---> 26\u001b[0m     _plugin \u001b[39m=\u001b[39m custom_ops\u001b[39m.\u001b[39;49mget_plugin(\n\u001b[1;32m     27\u001b[0m         module_name\u001b[39m=\u001b[39;49m\u001b[39m'\u001b[39;49m\u001b[39mfiltered_lrelu_plugin\u001b[39;49m\u001b[39m'\u001b[39;49m,\n\u001b[1;32m     28\u001b[0m         sources\u001b[39m=\u001b[39;49m[\u001b[39m'\u001b[39;49m\u001b[39mfiltered_lrelu.cpp\u001b[39;49m\u001b[39m'\u001b[39;49m, \u001b[39m'\u001b[39;49m\u001b[39mfiltered_lrelu_wr.cu\u001b[39;49m\u001b[39m'\u001b[39;49m, \u001b[39m'\u001b[39;49m\u001b[39mfiltered_lrelu_rd.cu\u001b[39;49m\u001b[39m'\u001b[39;49m, \u001b[39m'\u001b[39;49m\u001b[39mfiltered_lrelu_ns.cu\u001b[39;49m\u001b[39m'\u001b[39;49m],\n\u001b[1;32m     29\u001b[0m         headers\u001b[39m=\u001b[39;49m[\u001b[39m'\u001b[39;49m\u001b[39mfiltered_lrelu.h\u001b[39;49m\u001b[39m'\u001b[39;49m, \u001b[39m'\u001b[39;49m\u001b[39mfiltered_lrelu.cu\u001b[39;49m\u001b[39m'\u001b[39;49m],\n\u001b[1;32m     30\u001b[0m         source_dir\u001b[39m=\u001b[39;49mos\u001b[39m.\u001b[39;49mpath\u001b[39m.\u001b[39;49mdirname(\u001b[39m__file__\u001b[39;49m),\n\u001b[1;32m     31\u001b[0m         extra_cuda_cflags\u001b[39m=\u001b[39;49m[\u001b[39m'\u001b[39;49m\u001b[39m--use_fast_math\u001b[39;49m\u001b[39m'\u001b[39;49m],\n\u001b[1;32m     32\u001b[0m     )\n\u001b[1;32m     33\u001b[0m \u001b[39mreturn\u001b[39;00m \u001b[39mTrue\u001b[39;00m\n",
      "File \u001b[0;32m/datawaha/cggroup/cvejica/anyres-gan/torch_utils/custom_ops.py:136\u001b[0m, in \u001b[0;36mget_plugin\u001b[0;34m(module_name, sources, headers, source_dir, **build_kwargs)\u001b[0m\n\u001b[1;32m    134\u001b[0m     \u001b[39m# Compile.\u001b[39;00m\n\u001b[1;32m    135\u001b[0m     cached_sources \u001b[39m=\u001b[39m [os\u001b[39m.\u001b[39mpath\u001b[39m.\u001b[39mjoin(cached_build_dir, os\u001b[39m.\u001b[39mpath\u001b[39m.\u001b[39mbasename(fname)) \u001b[39mfor\u001b[39;00m fname \u001b[39min\u001b[39;00m sources]\n\u001b[0;32m--> 136\u001b[0m     torch\u001b[39m.\u001b[39;49mutils\u001b[39m.\u001b[39;49mcpp_extension\u001b[39m.\u001b[39;49mload(name\u001b[39m=\u001b[39;49mmodule_name, build_directory\u001b[39m=\u001b[39;49mcached_build_dir,\n\u001b[1;32m    137\u001b[0m         verbose\u001b[39m=\u001b[39;49mverbose_build, sources\u001b[39m=\u001b[39;49mcached_sources, \u001b[39m*\u001b[39;49m\u001b[39m*\u001b[39;49mbuild_kwargs)\n\u001b[1;32m    138\u001b[0m \u001b[39melse\u001b[39;00m:\n\u001b[1;32m    139\u001b[0m     torch\u001b[39m.\u001b[39mutils\u001b[39m.\u001b[39mcpp_extension\u001b[39m.\u001b[39mload(name\u001b[39m=\u001b[39mmodule_name, verbose\u001b[39m=\u001b[39mverbose_build, sources\u001b[39m=\u001b[39msources, \u001b[39m*\u001b[39m\u001b[39m*\u001b[39mbuild_kwargs)\n",
      "File \u001b[0;32m~/.conda/envs/anyres-gan/lib/python3.8/site-packages/torch/utils/cpp_extension.py:1124\u001b[0m, in \u001b[0;36mload\u001b[0;34m(name, sources, extra_cflags, extra_cuda_cflags, extra_ldflags, extra_include_paths, build_directory, verbose, with_cuda, is_python_module, is_standalone, keep_intermediates)\u001b[0m\n\u001b[1;32m   1033\u001b[0m \u001b[39mdef\u001b[39;00m \u001b[39mload\u001b[39m(name,\n\u001b[1;32m   1034\u001b[0m          sources: Union[\u001b[39mstr\u001b[39m, List[\u001b[39mstr\u001b[39m]],\n\u001b[1;32m   1035\u001b[0m          extra_cflags\u001b[39m=\u001b[39m\u001b[39mNone\u001b[39;00m,\n\u001b[0;32m   (...)\u001b[0m\n\u001b[1;32m   1043\u001b[0m          is_standalone\u001b[39m=\u001b[39m\u001b[39mFalse\u001b[39;00m,\n\u001b[1;32m   1044\u001b[0m          keep_intermediates\u001b[39m=\u001b[39m\u001b[39mTrue\u001b[39;00m):\n\u001b[1;32m   1045\u001b[0m     \u001b[39mr\u001b[39m\u001b[39m'''\u001b[39;00m\n\u001b[1;32m   1046\u001b[0m \u001b[39m    Loads a PyTorch C++ extension just-in-time (JIT).\u001b[39;00m\n\u001b[1;32m   1047\u001b[0m \n\u001b[0;32m   (...)\u001b[0m\n\u001b[1;32m   1122\u001b[0m \u001b[39m                verbose=True)\u001b[39;00m\n\u001b[1;32m   1123\u001b[0m \u001b[39m    '''\u001b[39;00m\n\u001b[0;32m-> 1124\u001b[0m     \u001b[39mreturn\u001b[39;00m _jit_compile(\n\u001b[1;32m   1125\u001b[0m         name,\n\u001b[1;32m   1126\u001b[0m         [sources] \u001b[39mif\u001b[39;49;00m \u001b[39misinstance\u001b[39;49m(sources, \u001b[39mstr\u001b[39;49m) \u001b[39melse\u001b[39;49;00m sources,\n\u001b[1;32m   1127\u001b[0m         extra_cflags,\n\u001b[1;32m   1128\u001b[0m         extra_cuda_cflags,\n\u001b[1;32m   1129\u001b[0m         extra_ldflags,\n\u001b[1;32m   1130\u001b[0m         extra_include_paths,\n\u001b[1;32m   1131\u001b[0m         build_directory \u001b[39mor\u001b[39;49;00m _get_build_directory(name, verbose),\n\u001b[1;32m   1132\u001b[0m         verbose,\n\u001b[1;32m   1133\u001b[0m         with_cuda,\n\u001b[1;32m   1134\u001b[0m         is_python_module,\n\u001b[1;32m   1135\u001b[0m         is_standalone,\n\u001b[1;32m   1136\u001b[0m         keep_intermediates\u001b[39m=\u001b[39;49mkeep_intermediates)\n",
      "File \u001b[0;32m~/.conda/envs/anyres-gan/lib/python3.8/site-packages/torch/utils/cpp_extension.py:1337\u001b[0m, in \u001b[0;36m_jit_compile\u001b[0;34m(name, sources, extra_cflags, extra_cuda_cflags, extra_ldflags, extra_include_paths, build_directory, verbose, with_cuda, is_python_module, is_standalone, keep_intermediates)\u001b[0m\n\u001b[1;32m   1327\u001b[0m         \u001b[39mif\u001b[39;00m IS_HIP_EXTENSION \u001b[39mand\u001b[39;00m (with_cuda \u001b[39mor\u001b[39;00m with_cudnn):\n\u001b[1;32m   1328\u001b[0m             hipify_python\u001b[39m.\u001b[39mhipify(\n\u001b[1;32m   1329\u001b[0m                 project_directory\u001b[39m=\u001b[39mbuild_directory,\n\u001b[1;32m   1330\u001b[0m                 output_directory\u001b[39m=\u001b[39mbuild_directory,\n\u001b[0;32m   (...)\u001b[0m\n\u001b[1;32m   1335\u001b[0m                 clean_ctx\u001b[39m=\u001b[39mclean_ctx\n\u001b[1;32m   1336\u001b[0m             )\n\u001b[0;32m-> 1337\u001b[0m         _write_ninja_file_and_build_library(\n\u001b[1;32m   1338\u001b[0m             name\u001b[39m=\u001b[39;49mname,\n\u001b[1;32m   1339\u001b[0m             sources\u001b[39m=\u001b[39;49msources,\n\u001b[1;32m   1340\u001b[0m             extra_cflags\u001b[39m=\u001b[39;49mextra_cflags \u001b[39mor\u001b[39;49;00m [],\n\u001b[1;32m   1341\u001b[0m             extra_cuda_cflags\u001b[39m=\u001b[39;49mextra_cuda_cflags \u001b[39mor\u001b[39;49;00m [],\n\u001b[1;32m   1342\u001b[0m             extra_ldflags\u001b[39m=\u001b[39;49mextra_ldflags \u001b[39mor\u001b[39;49;00m [],\n\u001b[1;32m   1343\u001b[0m             extra_include_paths\u001b[39m=\u001b[39;49mextra_include_paths \u001b[39mor\u001b[39;49;00m [],\n\u001b[1;32m   1344\u001b[0m             build_directory\u001b[39m=\u001b[39;49mbuild_directory,\n\u001b[1;32m   1345\u001b[0m             verbose\u001b[39m=\u001b[39;49mverbose,\n\u001b[1;32m   1346\u001b[0m             with_cuda\u001b[39m=\u001b[39;49mwith_cuda,\n\u001b[1;32m   1347\u001b[0m             is_standalone\u001b[39m=\u001b[39;49mis_standalone)\n\u001b[1;32m   1348\u001b[0m \u001b[39mfinally\u001b[39;00m:\n\u001b[1;32m   1349\u001b[0m     baton\u001b[39m.\u001b[39mrelease()\n",
      "File \u001b[0;32m~/.conda/envs/anyres-gan/lib/python3.8/site-packages/torch/utils/cpp_extension.py:1426\u001b[0m, in \u001b[0;36m_write_ninja_file_and_build_library\u001b[0;34m(name, sources, extra_cflags, extra_cuda_cflags, extra_ldflags, extra_include_paths, build_directory, verbose, with_cuda, is_standalone)\u001b[0m\n\u001b[1;32m   1424\u001b[0m \u001b[39mif\u001b[39;00m with_cuda \u001b[39mis\u001b[39;00m \u001b[39mNone\u001b[39;00m:\n\u001b[1;32m   1425\u001b[0m     with_cuda \u001b[39m=\u001b[39m \u001b[39many\u001b[39m(\u001b[39mmap\u001b[39m(_is_cuda_file, sources))\n\u001b[0;32m-> 1426\u001b[0m extra_ldflags \u001b[39m=\u001b[39m _prepare_ldflags(\n\u001b[1;32m   1427\u001b[0m     extra_ldflags \u001b[39mor\u001b[39;49;00m [],\n\u001b[1;32m   1428\u001b[0m     with_cuda,\n\u001b[1;32m   1429\u001b[0m     verbose,\n\u001b[1;32m   1430\u001b[0m     is_standalone)\n\u001b[1;32m   1431\u001b[0m build_file_path \u001b[39m=\u001b[39m os\u001b[39m.\u001b[39mpath\u001b[39m.\u001b[39mjoin(build_directory, \u001b[39m'\u001b[39m\u001b[39mbuild.ninja\u001b[39m\u001b[39m'\u001b[39m)\n\u001b[1;32m   1432\u001b[0m \u001b[39mif\u001b[39;00m verbose:\n",
      "File \u001b[0;32m~/.conda/envs/anyres-gan/lib/python3.8/site-packages/torch/utils/cpp_extension.py:1534\u001b[0m, in \u001b[0;36m_prepare_ldflags\u001b[0;34m(extra_ldflags, with_cuda, verbose, is_standalone)\u001b[0m\n\u001b[1;32m   1532\u001b[0m         extra_ldflags\u001b[39m.\u001b[39mappend(os\u001b[39m.\u001b[39mpath\u001b[39m.\u001b[39mjoin(CUDNN_HOME, \u001b[39m'\u001b[39m\u001b[39mlib/x64\u001b[39m\u001b[39m'\u001b[39m))\n\u001b[1;32m   1533\u001b[0m \u001b[39melif\u001b[39;00m \u001b[39mnot\u001b[39;00m IS_HIP_EXTENSION:\n\u001b[0;32m-> 1534\u001b[0m     extra_ldflags\u001b[39m.\u001b[39mappend(\u001b[39mf\u001b[39m\u001b[39m'\u001b[39m\u001b[39m-L\u001b[39m\u001b[39m{\u001b[39;00m_join_cuda_home(\u001b[39m\"\u001b[39m\u001b[39mlib64\u001b[39m\u001b[39m\"\u001b[39m)\u001b[39m}\u001b[39;00m\u001b[39m'\u001b[39m)\n\u001b[1;32m   1535\u001b[0m     extra_ldflags\u001b[39m.\u001b[39mappend(\u001b[39m'\u001b[39m\u001b[39m-lcudart\u001b[39m\u001b[39m'\u001b[39m)\n\u001b[1;32m   1536\u001b[0m     \u001b[39mif\u001b[39;00m CUDNN_HOME \u001b[39mis\u001b[39;00m \u001b[39mnot\u001b[39;00m \u001b[39mNone\u001b[39;00m:\n",
      "File \u001b[0;32m~/.conda/envs/anyres-gan/lib/python3.8/site-packages/torch/utils/cpp_extension.py:2035\u001b[0m, in \u001b[0;36m_join_cuda_home\u001b[0;34m(*paths)\u001b[0m\n\u001b[1;32m   2028\u001b[0m \u001b[39mr\u001b[39m\u001b[39m'''\u001b[39;00m\n\u001b[1;32m   2029\u001b[0m \u001b[39mJoins paths with CUDA_HOME, or raises an error if it CUDA_HOME is not set.\u001b[39;00m\n\u001b[1;32m   2030\u001b[0m \n\u001b[1;32m   2031\u001b[0m \u001b[39mThis is basically a lazy way of raising an error for missing $CUDA_HOME\u001b[39;00m\n\u001b[1;32m   2032\u001b[0m \u001b[39monly once we need to get any CUDA-specific path.\u001b[39;00m\n\u001b[1;32m   2033\u001b[0m \u001b[39m'''\u001b[39;00m\n\u001b[1;32m   2034\u001b[0m \u001b[39mif\u001b[39;00m CUDA_HOME \u001b[39mis\u001b[39;00m \u001b[39mNone\u001b[39;00m:\n\u001b[0;32m-> 2035\u001b[0m     \u001b[39mraise\u001b[39;00m \u001b[39mEnvironmentError\u001b[39;00m(\u001b[39m'\u001b[39m\u001b[39mCUDA_HOME environment variable is not set. \u001b[39m\u001b[39m'\u001b[39m\n\u001b[1;32m   2036\u001b[0m                            \u001b[39m'\u001b[39m\u001b[39mPlease set it to your CUDA install root.\u001b[39m\u001b[39m'\u001b[39m)\n\u001b[1;32m   2037\u001b[0m \u001b[39mreturn\u001b[39;00m os\u001b[39m.\u001b[39mpath\u001b[39m.\u001b[39mjoin(CUDA_HOME, \u001b[39m*\u001b[39mpaths)\n",
      "\u001b[0;31mOSError\u001b[0m: CUDA_HOME environment variable is not set. Please set it to your CUDA install root."
     ]
    }
   ],
   "source": [
    "\n",
    "# def generate_different_images_split(selected, ws_list, G_base, output_resolution=4096, output_format=\"jpg\", grid=4, extra:str=\"p000000/\"):\n",
    "from gen_videos import generate_different_images_split, load_G, load_ws\n",
    "G_base, ws_list = load_G(), load_ws()\n",
    "#generate_different_images_split(list(range(len(ws_list))), ws_list, G_base, output_resolution=4096, output_format=\"png\", grid=4, extra=\"p000000/\", mov_scale=0.25, num_pixels=1024)\n",
    "generate_different_images_split(list(range(len(ws_list))), ws_list, G_base, output_resolution=4096, output_format=\"png\", grid=4, extra=\"p000000/\", mov_scale=1, num_pixels=1024)"
   ]
  },
  {
   "cell_type": "code",
   "execution_count": 1,
   "metadata": {},
   "outputs": [],
   "source": [
    "from gen_videos import create_patch_info_split\n",
    "qqq = create_patch_info_split(SUB_PIXEL=1)"
   ]
  },
  {
   "cell_type": "code",
   "execution_count": 2,
   "metadata": {},
   "outputs": [],
   "source": [
    "w = [(q[1][0][2].item(), q[1][1][2].item()) for q in qqq]"
   ]
  },
  {
   "cell_type": "code",
   "execution_count": 3,
   "metadata": {},
   "outputs": [
    {
     "name": "stdout",
     "output_type": "stream",
     "text": [
      "tx matrix:\n",
      "\n",
      "-2.000000 -0.666667 0.666667 2.000000 \n",
      "-2.000000 -0.666667 0.666667 2.000000 \n",
      "-2.000000 -0.666667 0.666667 2.000000 \n",
      "-2.000000 -0.666667 0.666667 2.000000 \n",
      "ty matrix:\n",
      "\n",
      "-2.000000 -2.000000 -2.000000 -2.000000 \n",
      "-0.666667 -0.666667 -0.666667 -0.666667 \n",
      "0.666667 0.666667 0.666667 0.666667 \n",
      "2.000000 2.000000 2.000000 2.000000 "
     ]
    }
   ],
   "source": [
    "print(f\"tx matrix:\")\n",
    "for i in range(0, 16):\n",
    "    if i % 4 == 0:\n",
    "        print()\n",
    "    print(f\"{w[i][0]:5f} \", end='')\n",
    "print(f'\\nty matrix:')\n",
    "for i in range(0, 16):\n",
    "    if i % 4 == 0:\n",
    "        print()\n",
    "    print(f\"{w[i][1]:5f} \", end='')"
   ]
  },
  {
   "cell_type": "code",
   "execution_count": 136,
   "metadata": {},
   "outputs": [],
   "source": [
    "final_images = torch.cat([torch.cat(list_of_images[i:i+4], dim=2) for i in range(0,16,4)], dim=1)"
   ]
  },
  {
   "attachments": {},
   "cell_type": "markdown",
   "metadata": {},
   "source": [
    "### Random previous tests"
   ]
  },
  {
   "cell_type": "code",
   "execution_count": null,
   "metadata": {},
   "outputs": [],
   "source": [
    "# load one image example\n",
    "from PIL import Image\n",
    "random_pil_image = Image.open(\"/datawaha/cggroup/cvejica/SS750/LR/shutterstock_2935644_01.png\")\n",
    "import torch\n",
    "from torchvision.transforms import ToTensor, ToPILImage\n",
    "full_size = 4096\n",
    "full = torch.zeros([1, 3, full_size, full_size])\n",
    "import matplotlib.pyplot as plt\n",
    "\n",
    "plt.imshow(ToPILImage()(full[0]))\n",
    "# set the image to part of the image\n",
    "full[:, :, 0:1024, 0:1024] = ToTensor()(random_pil_image).unsqueeze(0).float()\n"
   ]
  },
  {
   "cell_type": "code",
   "execution_count": 43,
   "metadata": {},
   "outputs": [],
   "source": [
    "from training.networks_stylegan3 import Generator\n",
    "import pickle\n",
    "G_path = \"training-runs/SS750/00010-stylegan3-r-LR-gpus4-batch32-gamma2/network-snapshot-000000.pkl\"\n",
    "with open(G_path, 'rb') as f:\n",
    "        G_base: Generator = pickle.load(f)['G_ema'].cuda()\n",
    "with open(f'ws.pkl', 'rb') as f:\n",
    "        ws_list = pickle.load(f)"
   ]
  },
  {
   "cell_type": "code",
   "execution_count": 130,
   "metadata": {},
   "outputs": [],
   "source": [
    "from util import patch_util\n",
    "#patches = patch_util.generate_full_from_patches(full_size, G_base.img_resolution)\n",
    "patches = patch_util.generate_full_from_patches(full_size, G_base.img_resolution)\n",
    "from util import renormalize\n",
    "from typing import List\n",
    "from tqdm import tqdm\n",
    "def test_create_random_grid_4k(G_base, patches, ws_list:List[torch.Tensor], grid_size:int = 4, random_state:int = 19, full_size:int = 4096, fs:int = None, verbose:bool = False) -> List[torch.Tensor]:\n",
    "    items = []\n",
    "    for i in tqdm(range(grid_size*grid_size), desc='Generating images 4k', disable=not verbose):        \n",
    "        full = torch.zeros([1, 3, full_size, full_size])\n",
    "        \n",
    "        for bbox, transform in patches:\n",
    "            #G_base.scale_mapping_kwargs = None\n",
    "            if fs is not None:\n",
    "                # change [0, 0] and [1, 1] indexes new scale, instead of 0.25\n",
    "                transform[0, 0] = fs\n",
    "                transform[1, 1] = fs\n",
    "            img = patch_util.scale_condition_wrapper(G_base, ws_list[i], transform[None].cuda(), noise_mode='const', force_fp32=True)\n",
    "            full[:, :, bbox[0]:bbox[1], bbox[2]:bbox[3]] = img\n",
    "        img = renormalize.as_tensor(full[0], target='pt')\n",
    "        #items.append(img)\n",
    "    return img\n",
    "rez = test_create_random_grid_4k(G_base, patches[:8], ws_list, grid_size=1, random_state=19, full_size=4096, fs=None, verbose=True)\n",
    "plt.imshow(ToPILImage()(rez[0]))\n",
    "# # patches[0][1][0][0] = 0.25 # sx\n",
    "# # patches[0][1][1][1] = 0.25 # sy\n",
    "# # patches[0][1][0][2] = -0.75 # tx\n",
    "# # patches[0][1][1][2] = -0.75 # ty\n",
    "\n",
    "# # replace last 8 patches matrixes (element 1 and also element 0) with first 1, with different tx and ty based on list_tx_ty\n",
    "# # make a list of tx and ty, starting from -0.5, increment of 0.1\n",
    "# list_tx_ty = []\n",
    "# for i in range(8):\n",
    "#     list_tx_ty.append((-0.5 + 0.1*i, -0.5 + 0.1*i))\n",
    "# print(list_tx_ty)\n",
    "# n = len(patches)\n",
    "# mid = n//2\n",
    "# for i in range(8):\n",
    "#     #el = list(patches[i]) # convert \n",
    "#     #el[0] = patches[i][0]\n",
    "#     #patches[mid+i] = el\n",
    "#     patches[mid+i][1][0][2] = list_tx_ty[i][0]\n",
    "#     patches[mid+i][1][1][2] = list_tx_ty[i][1]\n",
    "\n",
    "# # set scale to 1 for all patches\n",
    "# for i in range(n):\n",
    "#     patches[i][1][0][0] = 1\n",
    "#     patches[i][1][1][1] = 1\n",
    "\n",
    "# print(patches[0])"
   ]
  },
  {
   "cell_type": "code",
   "execution_count": 153,
   "metadata": {},
   "outputs": [],
   "source": [
    "# from util import patch_util\n",
    "# patches = patch_util.generate_full_from_patches(full_size, G_base.img_resolution)"
   ]
  },
  {
   "attachments": {},
   "cell_type": "markdown",
   "metadata": {},
   "source": [
    "### 4 image translation"
   ]
  },
  {
   "attachments": {},
   "cell_type": "markdown",
   "metadata": {},
   "source": [
    "### Refactored video translation code into a function that takes a video file as input and returns a video file as output."
   ]
  },
  {
   "cell_type": "code",
   "execution_count": 92,
   "metadata": {},
   "outputs": [],
   "source": [
    "import copy\n",
    "import numpy as np\n",
    "from torchvision.transforms import ToPILImage, ToTensor\n",
    "import matplotlib.pyplot as plt\n",
    "import os\n",
    "import torch\n",
    "\n",
    "from util import renormalize\n",
    "from typing import List\n",
    "from tqdm import tqdm\n",
    "def test_create_random_grid_4k(G_base, patches, ws_list:List[torch.Tensor], grid_size:int = 4, random_state:int = 19, full_size:int = 4096, fs:int = None, verbose:bool = False) -> List[torch.Tensor]:\n",
    "    items = []\n",
    "    for i in tqdm(range(grid_size*grid_size), desc='Generating images 4k', disable=not verbose):        \n",
    "        full = torch.zeros([1, 3, full_size, full_size])\n",
    "        \n",
    "        for bbox, transform in patches:\n",
    "            #G_base.scale_mapping_kwargs = None\n",
    "            if fs is not None:\n",
    "                # change [0, 0] and [1, 1] indexes new scale, instead of 0.25\n",
    "                transform[0, 0] = fs\n",
    "                transform[1, 1] = fs\n",
    "            img = patch_util.scale_condition_wrapper(G_base, ws_list[i], transform[None].cuda(), noise_mode='const', force_fp32=True)\n",
    "            full[:, :, bbox[0]:bbox[1], bbox[2]:bbox[3]] = img\n",
    "        img = renormalize.as_tensor(full[0], target='pt')\n",
    "        items.append(img)\n",
    "    return items\n",
    "    \n",
    "def create_patch_info(shift_start, shift_stop, scale_start, scale_stop, n):\n",
    "    import numpy as np # Two\n",
    "    values = list(np.linspace(start=shift_start, stop=shift_stop, num=n))    \n",
    "    list_scale = list(np.linspace(start=scale_start, stop=scale_stop, num=n))   \n",
    "\n",
    "    # actually construct the lists\n",
    "    list_tx_ty = []\n",
    "    for v in values:\n",
    "        list_tx_ty.append((v, v))\n",
    "\n",
    "    scales = []\n",
    "    for w in list_scale:\n",
    "        scales.append((w, w))\n",
    "\n",
    "    return list_tx_ty, scales\n",
    "\n",
    "def create_patches(patch, list_tx_ty, scales):\n",
    "    patches = []\n",
    "    patches.append(copy.deepcopy(patch))\n",
    "    for i in range(len(list_tx_ty)):\n",
    "        cp = copy.deepcopy(patch)\n",
    "        cp[1][0][2] = list_tx_ty[i][0]\n",
    "        cp[1][1][2] = list_tx_ty[i][1]\n",
    "        # set scales\n",
    "        cp[1][0][0] = scales[i][0]\n",
    "        cp[1][1][1] = scales[i][1]\n",
    "\n",
    "        patches.append(cp)\n",
    "    patches.append(copy.deepcopy(patch))\n",
    "    return patches\n",
    "from PIL import ImageFont, ImageDraw\n",
    "\n",
    "from grids import create_random_grid_4k\n",
    "\n",
    "def generate_frames(G, patches, ws, write_text_on_images:bool = False):\n",
    "    frames = []\n",
    "    for i in range(len(patches)):\n",
    "        #frame = G_base.synthesis(patches[i], noise_mode='const')\n",
    "        #frame = (frame + 1) / 2\n",
    "        frame = create_random_grid_4k(G, [ws], [patches[i]], grid_size=1, random_state=19, full_size=1024, fs=None, verbose=False)\n",
    "        \n",
    "        if write_text_on_images:\n",
    "            frame = ToPILImage()(frame[0])\n",
    "            draw = ImageDraw.Draw(frame)\n",
    "            draw.text((0, 0), f\"Frame {i}\", fill=(255, 255, 255))\n",
    "            frame = ToTensor()(frame)\n",
    "        frames.append(frame)\n",
    "    return frames\n",
    "\n",
    "import torchvision\n",
    "import imageio\n",
    "def write_frames_to_file(frames, path, format:str):\n",
    "    fpath = path[:path.rfind('/')]\n",
    "    if not os.path.exists(fpath):\n",
    "        os.makedirs(fpath)\n",
    "    if not (format == 'jpg' or format == 'png' or format == 'mp4' or format == 'gif'):\n",
    "        print(f\"Unknown format {format}\")\n",
    "        return\n",
    "    #print(f\"Saving {len(frames)} frames to {path} as {format} files\")\n",
    "    \n",
    "    if format == 'jpg' or format == 'png':\n",
    "        for i in range(len(frames)):\n",
    "            torchvision.utils.save_image(frames[i], f\"{path}{i}.{format}\")\n",
    "    elif format == 'mp4':\n",
    "        with imageio.v2.get_writer(f\"{path}.{format}\", fps=1, format='FFMPEG', mode='I') as w: # outputs{extra_path}{fname}result_{sel}.mp4\n",
    "            for im in frames:\n",
    "                # if tensor, convert to PIL \n",
    "                if isinstance(im, torch.Tensor):\n",
    "                    im = ToPILImage()(im)\n",
    "                w.append_data(np.array(im))\n",
    "    elif format == 'gif':\n",
    "        imageio.mimsave(f\"{path}.gif\", frames, fps=1)"
   ]
  },
  {
   "cell_type": "code",
   "execution_count": 93,
   "metadata": {},
   "outputs": [],
   "source": [
    "from util import patch_util\n",
    "from tqdm import tqdm\n",
    "\n",
    "import einops\n",
    "\n",
    "from training.networks_stylegan3 import Generator\n",
    "import pickle\n",
    "\n",
    "def load_G(G_path:str = 'training-runs/SS750/00010-stylegan3-r-LR-gpus4-batch32-gamma2/network-snapshot-000000.pkl'):\n",
    "    with open(G_path, 'rb') as f:\n",
    "        G_base: Generator = pickle.load(f)['G_ema'].cuda()\n",
    "    return G_base\n",
    "\n",
    "def load_ws(ws_path:str = 'ws.pkl'):\n",
    "    with open(ws_path, 'rb') as f:\n",
    "        ws_list = pickle.load(f)\n",
    "    return ws_list\n",
    "\n",
    "def generate_different_images(selected, ws_list, G_base, output_resolution=1024, output_format=\"mp4\", shift_start=-0.5, shift_stop=0.5, scale_start=0.5, scale_stop=1.5, n=8, extra:str=\"r000000/\"):\n",
    "    patches = patch_util.generate_full_from_patches(output_resolution, G_base.img_resolution)\n",
    "    folder_location = f\"outputs/{extra}s{shift_start}_s{shift_stop}_sc{scale_start}_sc{scale_stop}_n{n}\"\n",
    "    print(f\"Saving to {folder_location}\")\n",
    "    for i in tqdm(selected, desc=\"Generating different images\", leave=False):\n",
    "        # output includes generator steps, \n",
    "        output_folder_and_file = f\"{folder_location}/result_{i}\"\n",
    "        list_tx_ty, scales = create_patch_info(shift_start, shift_stop, scale_start, scale_stop, n)\n",
    "        patches = create_patches(patches[0], list_tx_ty, scales)\n",
    "        frames = generate_frames(G_base, patches, ws_list[i], write_text_on_images=True)\n",
    "        write_frames_to_file(frames, output_folder_and_file, output_format)\n",
    "\n",
    "G_base, ws_list = load_G(), load_ws()"
   ]
  },
  {
   "cell_type": "code",
   "execution_count": 8,
   "metadata": {},
   "outputs": [],
   "source": [
    "from gen_videos import create_patch_info\n",
    "t1, t2 = create_patch_info(0, 0, 1, 1, 1)"
   ]
  },
  {
   "cell_type": "code",
   "execution_count": 10,
   "metadata": {},
   "outputs": [
    {
     "data": {
      "text/plain": [
       "[(1.0, 1.0)]"
      ]
     },
     "execution_count": 10,
     "metadata": {},
     "output_type": "execute_result"
    }
   ],
   "source": [
    "t2"
   ]
  },
  {
   "cell_type": "code",
   "execution_count": 8,
   "metadata": {},
   "outputs": [
    {
     "name": "stdout",
     "output_type": "stream",
     "text": [
      "Autoloading cuda/10.2.89/gcc-7.5.0-jr6kobf\u001b[m\n",
      "Autoloading libxml2/2.9.9/gcc-7.5.0-ouvtc2l\u001b[m\n",
      "Autoloading libiconv/1.16/gcc-7.5.0-pndwbk6\u001b[m\n",
      "Autoloading xz/5.2.4/gcc-7.5.0-55h4brm\u001b[m\n",
      "Autoloading zlib/1.2.11/gcc-7.5.0-dsnnbcq\u001b[m\n",
      "\u001b[K\u001b[?1l\u001b>Saving to outputs/p000000/s0_s0_sc1_sc1_n1 and adding_extra_patches=False\n"
     ]
    },
    {
     "name": "stderr",
     "output_type": "stream",
     "text": [
      "                                                                            \r"
     ]
    }
   ],
   "source": [
    "!module load cudnn\n",
    "from gen_videos import generate_different_images, load_G, load_ws\n",
    "G_base, ws_list = load_G(), load_ws()\n",
    "generate_different_images(list(range(len(ws_list))), ws_list, G_base, output_resolution=1024, output_format=\"png\", shift_start=0, shift_stop=0, scale_start=1, scale_stop=1, n=1, extra=\"p000000/\", write_text_on_images=False)"
   ]
  },
  {
   "cell_type": "code",
   "execution_count": 94,
   "metadata": {},
   "outputs": [
    {
     "name": "stderr",
     "output_type": "stream",
     "text": [
      "5788.60s - pydevd: Sending message related to process being replaced timed-out after 5 seconds\n"
     ]
    },
    {
     "name": "stdout",
     "output_type": "stream",
     "text": [
      "Autoloading cuda/10.2.89/gcc-7.5.0-jr6kobf\u001b[m\n",
      "Autoloading libxml2/2.9.9/gcc-7.5.0-ouvtc2l\u001b[m\n",
      "Autoloading libiconv/1.16/gcc-7.5.0-pndwbk6\u001b[m\n",
      "Autoloading xz/5.2.4/gcc-7.5.0-55h4brm\u001b[m\n",
      "Autoloading zlib/1.2.11/gcc-7.5.0-dsnnbcq\u001b[m\n",
      "\u001b[K\u001b[?1l\u001b>Saving to outputs/r000000/s-0.25_s0.25_sc1_sc1_n16\n"
     ]
    },
    {
     "name": "stderr",
     "output_type": "stream",
     "text": [
      "Generating different images:   0%|          | 0/16 [00:00<?, ?it/s][rawvideo @ 0x57bb6c0] Stream #0: not enough frames to estimate rate; consider increasing probesize\n",
      "Generating different images:   6%|▋         | 1/16 [00:02<00:37,  2.52s/it][rawvideo @ 0x64c56c0] Stream #0: not enough frames to estimate rate; consider increasing probesize\n",
      "Generating different images:  12%|█▎        | 2/16 [00:05<00:36,  2.59s/it][rawvideo @ 0x5d366c0] Stream #0: not enough frames to estimate rate; consider increasing probesize\n",
      "Generating different images:  19%|█▉        | 3/16 [00:07<00:33,  2.59s/it][rawvideo @ 0x6e6d6c0] Stream #0: not enough frames to estimate rate; consider increasing probesize\n",
      "Generating different images:  25%|██▌       | 4/16 [00:10<00:30,  2.53s/it][rawvideo @ 0x6f986c0] Stream #0: not enough frames to estimate rate; consider increasing probesize\n",
      "Generating different images:  31%|███▏      | 5/16 [00:12<00:27,  2.50s/it][rawvideo @ 0x5c506c0] Stream #0: not enough frames to estimate rate; consider increasing probesize\n",
      "Generating different images:  38%|███▊      | 6/16 [00:15<00:24,  2.49s/it][rawvideo @ 0x629c6c0] Stream #0: not enough frames to estimate rate; consider increasing probesize\n",
      "Generating different images:  44%|████▍     | 7/16 [00:17<00:22,  2.54s/it][rawvideo @ 0x5c7c6c0] Stream #0: not enough frames to estimate rate; consider increasing probesize\n",
      "Generating different images:  50%|█████     | 8/16 [00:20<00:20,  2.56s/it][rawvideo @ 0x71506c0] Stream #0: not enough frames to estimate rate; consider increasing probesize\n",
      "Generating different images:  56%|█████▋    | 9/16 [00:22<00:17,  2.55s/it][rawvideo @ 0x59d66c0] Stream #0: not enough frames to estimate rate; consider increasing probesize\n",
      "Generating different images:  62%|██████▎   | 10/16 [00:25<00:15,  2.52s/it][rawvideo @ 0x6d0a6c0] Stream #0: not enough frames to estimate rate; consider increasing probesize\n",
      "Generating different images:  69%|██████▉   | 11/16 [00:27<00:12,  2.56s/it][rawvideo @ 0x6e516c0] Stream #0: not enough frames to estimate rate; consider increasing probesize\n",
      "Generating different images:  75%|███████▌  | 12/16 [00:30<00:10,  2.54s/it][rawvideo @ 0x58996c0] Stream #0: not enough frames to estimate rate; consider increasing probesize\n",
      "Generating different images:  81%|████████▏ | 13/16 [00:32<00:07,  2.51s/it][rawvideo @ 0x59986c0] Stream #0: not enough frames to estimate rate; consider increasing probesize\n",
      "Generating different images:  88%|████████▊ | 14/16 [00:35<00:05,  2.53s/it][rawvideo @ 0x5e736c0] Stream #0: not enough frames to estimate rate; consider increasing probesize\n",
      "Generating different images:  94%|█████████▍| 15/16 [00:38<00:02,  2.57s/it][rawvideo @ 0x6e1b6c0] Stream #0: not enough frames to estimate rate; consider increasing probesize\n",
      "                                                                            \r"
     ]
    }
   ],
   "source": [
    "!module load cudnn\n",
    "generate_different_images(list(range(len(ws_list))), ws_list, G_base, output_resolution=1024, output_format=\"mp4\", shift_start=-0.25, shift_stop=0.25, scale_start=1, scale_stop=1, n=8, extra=\"r000000/\")"
   ]
  },
  {
   "attachments": {},
   "cell_type": "markdown",
   "metadata": {},
   "source": [
    "#### Generate images of shifted or scaled generator outputs"
   ]
  },
  {
   "cell_type": "code",
   "execution_count": 203,
   "metadata": {},
   "outputs": [],
   "source": [
    "from training.networks_stylegan3 import Generator\n",
    "import pickle\n",
    "G_path = \"training-runs/SS750/00010-stylegan3-r-LR-gpus4-batch32-gamma2/network-snapshot-000000.pkl\"\n",
    "with open(G_path, 'rb') as f:\n",
    "        G_base: Generator = pickle.load(f)['G_ema'].cuda()\n",
    "with open(f'ws.pkl', 'rb') as f:\n",
    "        ws_list = pickle.load(f)\n",
    "\n",
    "\n",
    "patch = patch_util.generate_full_from_patches(1024, G_base.img_resolution)\n",
    "import copy\n",
    "\n",
    "patches = []\n",
    "list_tx_ty = []\n",
    "scales = []\n",
    "\n",
    "use_zero_shift = False\n",
    "use_one_scale = False\n",
    "shift_start = -0.5\n",
    "shift_stop = 0.5\n",
    "\n",
    "scale_start = 0.25\n",
    "scale_stop = 0.25\n",
    "n = 48\n",
    "\n",
    "if use_zero_shift:\n",
    "    shift_start, shift_stop = 0, 0\n",
    "if use_one_scale:\n",
    "    scale_start, scale_stop = 1, 1\n",
    "\n",
    "import numpy as np # Two\n",
    "values = list(np.linspace(start=shift_start, stop=shift_stop, num=n))    \n",
    "list_scale = list(np.linspace(start=scale_start, stop=scale_stop, num=n))   #list_tx_ty.append((-1 + 0.1*i, -0.5 + 0.1*i))  \n",
    "\n",
    "# actually construct the lists\n",
    "for v in values:\n",
    "    list_tx_ty.append((v, v))\n",
    "\n",
    "for w in list_scale:\n",
    "    scales.append((w, w))\n",
    "\n",
    "patches.append(patch[0])\n",
    "\n",
    "for i in range(n):\n",
    "    cp = copy.deepcopy(patch[0])\n",
    "    cp[1][0][2] = list_tx_ty[i][0]\n",
    "    cp[1][1][2] = list_tx_ty[i][1]\n",
    "    # set scales\n",
    "    cp[1][0][0] = scales[i][0]\n",
    "    cp[1][1][1] = scales[i][1]\n",
    "\n",
    "    patches.append(cp)\n",
    "\n",
    "patches.append(patch[0])\n",
    "extra_path = f\"/s{scale_start}_{scale_stop}_n{n}_shift{shift_start}_{shift_stop}/\""
   ]
  },
  {
   "cell_type": "code",
   "execution_count": 204,
   "metadata": {},
   "outputs": [
    {
     "name": "stderr",
     "output_type": "stream",
     "text": [
      "[rawvideo @ 0x5eea6c0] Stream #0: not enough frames to estimate rate; consider increasing probesize\n",
      "[rawvideo @ 0x744e6c0] Stream #0: not enough frames to estimate rate; consider increasing probesize\n",
      "[rawvideo @ 0x6b946c0] Stream #0: not enough frames to estimate rate; consider increasing probesize\n",
      "[rawvideo @ 0x6cc36c0] Stream #0: not enough frames to estimate rate; consider increasing probesize\n",
      "[rawvideo @ 0x6aad6c0] Stream #0: not enough frames to estimate rate; consider increasing probesize\n",
      "[rawvideo @ 0x5aa86c0] Stream #0: not enough frames to estimate rate; consider increasing probesize\n",
      "[rawvideo @ 0x60696c0] Stream #0: not enough frames to estimate rate; consider increasing probesize\n",
      "[rawvideo @ 0x6f8d6c0] Stream #0: not enough frames to estimate rate; consider increasing probesize\n",
      "[rawvideo @ 0x6e836c0] Stream #0: not enough frames to estimate rate; consider increasing probesize\n",
      "[rawvideo @ 0x6f376c0] Stream #0: not enough frames to estimate rate; consider increasing probesize\n",
      "[rawvideo @ 0x6cdf6c0] Stream #0: not enough frames to estimate rate; consider increasing probesize\n",
      "[rawvideo @ 0x70046c0] Stream #0: not enough frames to estimate rate; consider increasing probesize\n",
      "[rawvideo @ 0x6f1a6c0] Stream #0: not enough frames to estimate rate; consider increasing probesize\n",
      "[rawvideo @ 0x55216c0] Stream #0: not enough frames to estimate rate; consider increasing probesize\n",
      "[rawvideo @ 0x5d466c0] Stream #0: not enough frames to estimate rate; consider increasing probesize\n",
      "[rawvideo @ 0x64806c0] Stream #0: not enough frames to estimate rate; consider increasing probesize\n"
     ]
    }
   ],
   "source": [
    "fname = '' #'s_' #'eps_'\n",
    "import os\n",
    "selected = list(range(len(ws_list)))\n",
    "\n",
    "myFont = ImageFont.truetype('FreeMono.ttf', 20)\n",
    "for sel in selected:\n",
    "    frames = []\n",
    "    for i in range(len(patches)):\n",
    "        rez = test_create_random_grid_4k(G_base, [patches[i]], [ws_list[sel]], grid_size=1, random_state=19, full_size=1024, fs=None, verbose=False)\n",
    "        img  = ToPILImage()(rez)\n",
    "        I1 = ImageDraw.Draw(img)\n",
    "        I1.text((10, 10), f\"sx {patches[i][1][0][0]} sy {patches[i][1][1][1]} tx {patches[i][1][0][2]} ty {patches[i][1][1][2]}\", font=myFont, fill=(255, 255, 255))\n",
    "        frames.append(img)\n",
    "\n",
    "    import imageio\n",
    "    #imageio.mimsave(\"result.gif\", frames, duration=1) # , 'GIF'\n",
    "    import numpy as np\n",
    "\n",
    "    if not os.path.exists(f'outputs{extra_path}'):\n",
    "        os.makedirs(f'outputs{extra_path}')\n",
    "\n",
    "    with imageio.v2.get_writer(f'outputs{extra_path}{fname}result_{sel}.mp4', fps=1, format='FFMPEG', mode='I') as w:\n",
    "        for im in frames:\n",
    "            w.append_data(np.array(im))\n",
    "# w.close()"
   ]
  },
  {
   "attachments": {},
   "cell_type": "markdown",
   "metadata": {},
   "source": [
    "<video width=\"400\" height=\"400\" controls>\n",
    "  <source src=\"outputs/result.mp4\" type=\"video/mp4\">\n",
    "</video>"
   ]
  },
  {
   "cell_type": "code",
   "execution_count": null,
   "metadata": {},
   "outputs": [],
   "source": []
  },
  {
   "cell_type": "code",
   "execution_count": 87,
   "metadata": {},
   "outputs": [
    {
     "name": "stderr",
     "output_type": "stream",
     "text": [
      "Generating images 4k: 100%|██████████| 1/1 [00:00<00:00,  2.13it/s]\n"
     ]
    },
    {
     "data": {
      "text/plain": [
       "<matplotlib.image.AxesImage at 0x14a3e80af7f0>"
      ]
     },
     "execution_count": 87,
     "metadata": {},
     "output_type": "execute_result"
    },
    {
     "data": {
      "image/png": "[encoded data removed]",
      "text/plain": [
       "<Figure size 640x480 with 1 Axes>"
      ]
     },
     "metadata": {},
     "output_type": "display_data"
    }
   ],
   "source": [
    "rez = test_create_random_grid_4k(G_base, patches[:8], ws_list, grid_size=1, random_state=19, full_size=4096, fs=None, verbose=True)\n",
    "plt.imshow(ToPILImage()(rez[0]))"
   ]
  },
  {
   "cell_type": "code",
   "execution_count": 21,
   "metadata": {},
   "outputs": [
    {
     "data": {
      "text/plain": [
       "array([-1.        , -0.33333333,  0.33333333,  1.        ])"
      ]
     },
     "execution_count": 21,
     "metadata": {},
     "output_type": "execute_result"
    }
   ],
   "source": [
    "import numpy as np\n",
    "np.linspace(-1, 1, 4)"
   ]
  },
  {
   "cell_type": "code",
   "execution_count": 19,
   "metadata": {},
   "outputs": [
    {
     "data": {
      "text/plain": [
       "[[(-1.0, -0.5), (-1.0, -0.5)],\n",
       " [(-1.0, -0.5), (-0.5, 0.0)],\n",
       " [(-1.0, -0.5), (0.0, 0.5)],\n",
       " [(-1.0, -0.5), (0.5, 1.0)],\n",
       " [(-0.5, 0.0), (-1.0, -0.5)],\n",
       " [(-0.5, 0.0), (-0.5, 0.0)],\n",
       " [(-0.5, 0.0), (0.0, 0.5)],\n",
       " [(-0.5, 0.0), (0.5, 1.0)],\n",
       " [(0.0, 0.5), (-1.0, -0.5)],\n",
       " [(0.0, 0.5), (-0.5, 0.0)],\n",
       " [(0.0, 0.5), (0.0, 0.5)],\n",
       " [(0.0, 0.5), (0.5, 1.0)],\n",
       " [(0.5, 1.0), (-1.0, -0.5)],\n",
       " [(0.5, 1.0), (-0.5, 0.0)],\n",
       " [(0.5, 1.0), (0.0, 0.5)],\n",
       " [(0.5, 1.0), (0.5, 1.0)]]"
      ]
     },
     "execution_count": 19,
     "metadata": {},
     "output_type": "execute_result"
    }
   ],
   "source": [
    "q"
   ]
  },
  {
   "cell_type": "code",
   "execution_count": 7,
   "metadata": {},
   "outputs": [
    {
     "name": "stdout",
     "output_type": "stream",
     "text": [
      "(0, 1024, 0, 1024) tensor([[[True, True, True],\n",
      "         [True, True, True],\n",
      "         [True, True, True]]])\n"
     ]
    }
   ],
   "source": [
    "for bbox, t in test:\n",
    "    print(bbox, t[None] == t)\n",
    "    break"
   ]
  },
  {
   "cell_type": "code",
   "execution_count": 89,
   "metadata": {},
   "outputs": [
    {
     "data": {
      "text/plain": [
       "-0.25"
      ]
     },
     "execution_count": 89,
     "metadata": {},
     "output_type": "execute_result"
    }
   ],
   "source": [
    "-0.3750 + 0.1250 "
   ]
  },
  {
   "cell_type": "code",
   "execution_count": 16,
   "metadata": {},
   "outputs": [
    {
     "data": {
      "text/plain": [
       "[((0, 1024, 0, 1024),\n",
       "  tensor([[ 0.2500,  0.0000, -0.3750],\n",
       "          [ 0.0000,  0.2500, -0.3750],\n",
       "          [ 0.0000,  0.0000,  1.0000]])),\n",
       " ((0, 1024, 1024, 2048),\n",
       "  tensor([[ 0.2500,  0.0000, -0.1250],\n",
       "          [ 0.0000,  0.2500, -0.3750],\n",
       "          [ 0.0000,  0.0000,  1.0000]])),\n",
       " ((0, 1024, 2048, 3072),\n",
       "  tensor([[ 0.2500,  0.0000,  0.1250],\n",
       "          [ 0.0000,  0.2500, -0.3750],\n",
       "          [ 0.0000,  0.0000,  1.0000]])),\n",
       " ((0, 1024, 3072, 4096),\n",
       "  tensor([[ 0.2500,  0.0000,  0.3750],\n",
       "          [ 0.0000,  0.2500, -0.3750],\n",
       "          [ 0.0000,  0.0000,  1.0000]])),\n",
       " ((1024, 2048, 0, 1024),\n",
       "  tensor([[ 0.2500,  0.0000, -0.3750],\n",
       "          [ 0.0000,  0.2500, -0.1250],\n",
       "          [ 0.0000,  0.0000,  1.0000]])),\n",
       " ((1024, 2048, 1024, 2048),\n",
       "  tensor([[ 0.2500,  0.0000, -0.1250],\n",
       "          [ 0.0000,  0.2500, -0.1250],\n",
       "          [ 0.0000,  0.0000,  1.0000]])),\n",
       " ((1024, 2048, 2048, 3072),\n",
       "  tensor([[ 0.2500,  0.0000,  0.1250],\n",
       "          [ 0.0000,  0.2500, -0.1250],\n",
       "          [ 0.0000,  0.0000,  1.0000]])),\n",
       " ((1024, 2048, 3072, 4096),\n",
       "  tensor([[ 0.2500,  0.0000,  0.3750],\n",
       "          [ 0.0000,  0.2500, -0.1250],\n",
       "          [ 0.0000,  0.0000,  1.0000]])),\n",
       " ((2048, 3072, 0, 1024),\n",
       "  tensor([[ 0.2500,  0.0000, -0.3750],\n",
       "          [ 0.0000,  0.2500,  0.1250],\n",
       "          [ 0.0000,  0.0000,  1.0000]])),\n",
       " ((2048, 3072, 1024, 2048),\n",
       "  tensor([[ 0.2500,  0.0000, -0.1250],\n",
       "          [ 0.0000,  0.2500,  0.1250],\n",
       "          [ 0.0000,  0.0000,  1.0000]])),\n",
       " ((2048, 3072, 2048, 3072),\n",
       "  tensor([[0.2500, 0.0000, 0.1250],\n",
       "          [0.0000, 0.2500, 0.1250],\n",
       "          [0.0000, 0.0000, 1.0000]])),\n",
       " ((2048, 3072, 3072, 4096),\n",
       "  tensor([[0.2500, 0.0000, 0.3750],\n",
       "          [0.0000, 0.2500, 0.1250],\n",
       "          [0.0000, 0.0000, 1.0000]])),\n",
       " ((3072, 4096, 0, 1024),\n",
       "  tensor([[ 0.2500,  0.0000, -0.3750],\n",
       "          [ 0.0000,  0.2500,  0.3750],\n",
       "          [ 0.0000,  0.0000,  1.0000]])),\n",
       " ((3072, 4096, 1024, 2048),\n",
       "  tensor([[ 0.2500,  0.0000, -0.1250],\n",
       "          [ 0.0000,  0.2500,  0.3750],\n",
       "          [ 0.0000,  0.0000,  1.0000]])),\n",
       " ((3072, 4096, 2048, 3072),\n",
       "  tensor([[0.2500, 0.0000, 0.1250],\n",
       "          [0.0000, 0.2500, 0.3750],\n",
       "          [0.0000, 0.0000, 1.0000]])),\n",
       " ((3072, 4096, 3072, 4096),\n",
       "  tensor([[0.2500, 0.0000, 0.3750],\n",
       "          [0.0000, 0.2500, 0.3750],\n",
       "          [0.0000, 0.0000, 1.0000]]))]"
      ]
     },
     "execution_count": 16,
     "metadata": {},
     "output_type": "execute_result"
    }
   ],
   "source": [
    "test"
   ]
  },
  {
   "cell_type": "code",
   "execution_count": 14,
   "metadata": {},
   "outputs": [
    {
     "data": {
      "text/plain": [
       "(<PIL.Image.Image image mode=RGB size=1024x1024>,\n",
       " {'min_scale_absolute': 0.25,\n",
       "  'min_scale_anneal': 0.25,\n",
       "  'sampled_scale': 0.3603410537826012,\n",
       "  'limits': [(-0.18156228008444752, 0.5390570021111893),\n",
       "   (-0.7748064743138635, -0.054187192118226646)],\n",
       "  'x': 320,\n",
       "  'y': 1163,\n",
       "  'new_size': 2842,\n",
       "  'orig_size': 4096,\n",
       "  'transform': tensor([[ 0.3603,  0.0000, -0.2072],\n",
       "          [ 0.0000,  0.3603,  0.0894],\n",
       "          [ 0.0000,  0.0000,  1.0000]])})"
      ]
     },
     "execution_count": 14,
     "metadata": {},
     "output_type": "execute_result"
    }
   ],
   "source": [
    "ps.sample_patch(random_pil_image)\n"
   ]
  },
  {
   "cell_type": "code",
   "execution_count": null,
   "metadata": {},
   "outputs": [],
   "source": []
  }
 ],
 "metadata": {
  "kernelspec": {
   "display_name": "anyres-gan",
   "language": "python",
   "name": "python3"
  },
  "language_info": {
   "codemirror_mode": {
    "name": "ipython",
    "version": 3
   },
   "file_extension": ".py",
   "mimetype": "text/x-python",
   "name": "python",
   "nbconvert_exporter": "python",
   "pygments_lexer": "ipython3",
   "version": "3.8.15"
  },
  "orig_nbformat": 4,
  "vscode": {
   "interpreter": {
    "hash": "8b92608fad6a80d8be030d615afeb1226eb9f6a82e69c4a77b80f1b1464b1659"
   }
  }
 },
 "nbformat": 4,
 "nbformat_minor": 2
}
