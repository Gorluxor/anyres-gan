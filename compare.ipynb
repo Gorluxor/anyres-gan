{
 "cells": [
  {
   "cell_type": "code",
   "execution_count": 1,
   "metadata": {},
   "outputs": [],
   "source": [
    "import torch\n",
    "import matplotlib.pyplot as plt\n",
    "import numpy as np\n",
    "import pickle\n",
    "import os\n",
    "from training.networks_stylegan3 import Generator\n",
    "from torchvision.transforms import ToTensor\n",
    "from glob import glob\n",
    "from PIL import Image\n",
    "from tqdm import tqdm"
   ]
  },
  {
   "cell_type": "code",
   "execution_count": 2,
   "metadata": {},
   "outputs": [
    {
     "name": "stderr",
     "output_type": "stream",
     "text": [
      "4k: 100%|██████████| 16/16 [00:08<00:00,  1.84it/s]\n",
      "upsampling: 100%|██████████| 16/16 [02:43<00:00, 10.23s/it]\n"
     ]
    }
   ],
   "source": [
    "#folder_location_sg3_4k = \"outputs/p000000/g4_m0.25_n1024\"\n",
    "folder_location_sg3_4k = \"outputs/p000000/g4_m1_n4096\"\n",
    "folder_location_sg3_1k = \"outputs/p000000/s0_s0_sc1_sc1_n1\"\n",
    "\n",
    "list_4k = []\n",
    "for imgs in tqdm(sorted(glob(os.path.join(folder_location_sg3_4k, '*.png'))), desc=\"4k\"):\n",
    "    # load img\n",
    "    img = Image.open(imgs)\n",
    "    list_4k.append(ToTensor()(img))\n",
    "\n",
    "width = list_4k[0].shape[1]\n",
    "height = list_4k[0].shape[2]\n",
    "list_1k_b, list_1k_l = [], []\n",
    "from PIL.Image import Resampling\n",
    "\n",
    "output_folder_for_upsampled = \"outputs/p000000/upsampled_4k_n4096\"\n",
    "if not os.path.exists(output_folder_for_upsampled):\n",
    "        os.makedirs(output_folder_for_upsampled)\n",
    "for imgs in tqdm(sorted(glob(os.path.join(folder_location_sg3_1k, '*.png'))), desc=\"upsampling\"):\n",
    "    # load img\n",
    "    oimg = Image.open(imgs)\n",
    "    img = oimg.resize((width, height), Resampling.BILINEAR) \n",
    "\n",
    "    if not os.path.exists(os.path.join(output_folder_for_upsampled, os.path.basename(imgs))):\n",
    "        img.save(os.path.join(output_folder_for_upsampled, f\"l_{os.path.basename(imgs)}\" ))\n",
    "    list_1k_b.append(ToTensor()(img))\n",
    "    # do LANZOS upsampling, 4x increase\n",
    "    img = oimg.resize((width, height), Resampling.LANCZOS) \n",
    "    ## check if the file exists, if not create it\n",
    "    if not os.path.exists(os.path.join(output_folder_for_upsampled, os.path.basename(imgs))):\n",
    "        img.save(os.path.join(output_folder_for_upsampled,f\"b_{os.path.basename(imgs)}\"))\n",
    "    list_1k_l.append(ToTensor()(img))\n",
    "    # oimg = Image.open(imgs)\n",
    "\n",
    "# create grid, of 4x4, of difference between the images\n",
    "import torch\n",
    "import torchvision\n",
    "\n",
    "diff_list, diff_list_l = [], []\n",
    "for img1, img_b, img_l in zip(list_4k, list_1k_b, list_1k_l):\n",
    "    diff_list.append(torch.pow(img1 - img_b, 2)) \n",
    "    diff_list_l.append(torch.pow(img1 - img_l, 2))\n",
    "\n",
    "#diff_grid = torchvision.utils.make_grid(diff_list, nrow=4)"
   ]
  },
  {
   "cell_type": "code",
   "execution_count": 18,
   "metadata": {},
   "outputs": [],
   "source": [
    "selected = list(range(16))\n",
    "discrete_hot = plt.get_cmap('plasma',16)\n",
    "folder_location = 'outputs/diff_1k_sp_n/'\n",
    "if not os.path.exists(folder_location):\n",
    "    os.makedirs(folder_location)\n",
    "\n",
    "with open(f\"{folder_location}diff.txt\", \"w\") as diff_file:\n",
    "    diff_file.write(\"Bilinear MSE diff from SG3 spacial mixing\\n\")\n",
    "    for i in selected:\n",
    "        diff_file.write(f\"mean: {torch.mean(diff_list[i])}, std: {torch.std(diff_list[i])}, sum: {torch.sum(diff_list[i])}\\n\")\n",
    "    diff_file.write(\"Lanzos MSE diff from SG3 spacial mixing\\n\")\n",
    "    for i in selected:\n",
    "        diff_file.write(f\"mean: {torch.mean(diff_list_l[i])}, std: {torch.std(diff_list_l[i])}, sum: {torch.sum(diff_list[i])}\\n\")\n",
    "\n",
    "import matplotlib.pyplot as plt\n",
    "\n",
    "# for i in selected:\n",
    "#     diff_grid = torchvision.utils.make_grid([diff_list[i], diff_list_l[i]], nrow=2, padding=0)\n",
    "#     diff_grid = torchvision.transforms.Grayscale(num_output_channels=1)(diff_grid)\n",
    "#     diff_grid = diff_grid / diff_grid.max()\n",
    "#     # bucket images into 16 bins\n",
    "#     diff_grid = torch.bucketize(diff_grid, torch.linspace(0, 1, 16))\n",
    "\n",
    "#     plt.imshow(diff_grid.permute(1, 2, 0), cmap= discrete_hot) #'tab20c') # discrete_hot\n",
    "#     plt.axis('off') \n",
    "#     # add barplot, same size as the image, removing the text\n",
    "#     #plt.colorbar(ticks=np.linspace(0, 1, 16), orientation='horizontal')\n",
    "#     plt.savefig(f\"{folder_location}diff_{i}.png\", bbox_inches='tight', pad_inches=0)\n",
    "#     plt.close()\n",
    "\n",
    "# make grid of only one diff_list\n",
    "diff_grid = torchvision.utils.make_grid(diff_list_l, nrow=4, padding=0)\n",
    "diff_grid = torchvision.transforms.Grayscale(num_output_channels=1)(diff_grid)\n",
    "diff_grid = diff_grid / diff_grid.max()\n",
    "# bucket images into 16 bins\n",
    "diff_grid = torch.bucketize(diff_grid, torch.linspace(0, 1, 16))\n",
    "plt.imshow(diff_grid.permute(1, 2, 0), cmap= discrete_hot) \n",
    "plt.axis('off')\n",
    "\n",
    "plt.savefig(f\"{folder_location}diff_grid_l.png\", bbox_inches='tight', pad_inches=0)\n",
    "plt.close()\n"
   ]
  },
  {
   "cell_type": "code",
   "execution_count": 7,
   "metadata": {},
   "outputs": [],
   "source": [
    "discrete_hot = plt.get_cmap('plasma',16)"
   ]
  },
  {
   "cell_type": "code",
   "execution_count": 15,
   "metadata": {},
   "outputs": [
    {
     "data": {
      "image/png": "[encoded data removed]",
      "text/html": [
       "<div style=\"vertical-align: middle;\"><strong>plasma</strong> </div><div class=\"cmap\"><img alt=\"plasma colormap\" title=\"plasma\" style=\"border: 1px solid #555;\" src=\"data:image/png;base64,iVBORw0KGgoAAAANSUhEUgAAAgAAAABACAYAAABsv8+/AAAAFXRFWHRUaXRsZQBwbGFzbWEgY29sb3JtYXBGwe5cAAAAG3RFWHREZXNjcmlwdGlvbgBwbGFzbWEgY29sb3JtYXAPVva4AAAAMHRFWHRBdXRob3IATWF0cGxvdGxpYiB2My42LjMsIGh0dHBzOi8vbWF0cGxvdGxpYi5vcmfURcVRAAAAMnRFWHRTb2Z0d2FyZQBNYXRwbG90bGliIHYzLjYuMywgaHR0cHM6Ly9tYXRwbG90bGliLm9yZ/rjWnYAAAF8SURBVHic7dZNSgIAFEZRDSwoiVL7QWvcTltvRURQWst4g3vOBj4eb3KX64vXv8Wgl+Pt5Pzi6XQ1un84rUb396vR9y8eNt+j+3fb99H9zfD+zfZtdP96N3v/evcxun95P3v/+ePs/nL/Obr/e/gZ3f96Po7un42uAwAjBAAABAkAAAgSAAAQJAAAIEgAAECQAACAIAEAAEECAACCBAAABAkAAAgSAAAQJAAAIEgAAECQAACAIAEAAEECAACCBAAABAkAAAgSAAAQJAAAIEgAAECQAACAIAEAAEECAACCBAAABAkAAAgSAAAQJAAAIEgAAECQAACAIAEAAEECAACCBAAABAkAAAgSAAAQJAAAIEgAAECQAACAIAEAAEECAACCBAAABAkAAAgSAAAQJAAAIEgAAECQAACAIAEAAEECAACCBAAABAkAAAgSAAAQJAAAIEgAAECQAACAIAEAAEECAACCBAAABAkAAAgSAAAQJAAAIEgAAECQAACAoH8dehSHDfYuZAAAAABJRU5ErkJggg==\"></div><div style=\"vertical-align: middle; max-width: 514px; display: flex; justify-content: space-between;\"><div style=\"float: left;\"><div title=\"#0d0887ff\" style=\"display: inline-block; width: 1em; height: 1em; margin: 0; vertical-align: middle; border: 1px solid #555; background-color: #0d0887ff;\"></div> under</div><div style=\"margin: 0 auto; display: inline-block;\">bad <div title=\"#00000000\" style=\"display: inline-block; width: 1em; height: 1em; margin: 0; vertical-align: middle; border: 1px solid #555; background-color: #00000000;\"></div></div><div style=\"float: right;\">over <div title=\"#f0f921ff\" style=\"display: inline-block; width: 1em; height: 1em; margin: 0; vertical-align: middle; border: 1px solid #555; background-color: #f0f921ff;\"></div></div>"
      ],
      "text/plain": [
       "<matplotlib.colors.ListedColormap at 0x14a3426ecfa0>"
      ]
     },
     "execution_count": 15,
     "metadata": {},
     "output_type": "execute_result"
    }
   ],
   "source": [
    "discrete_hot"
   ]
  },
  {
   "cell_type": "code",
   "execution_count": 16,
   "metadata": {},
   "outputs": [
    {
     "data": {
      "text/plain": [
       "tensor(0)"
      ]
     },
     "execution_count": 16,
     "metadata": {},
     "output_type": "execute_result"
    }
   ],
   "source": [
    "torch.sum(diff_grid == 2)"
   ]
  },
  {
   "cell_type": "code",
   "execution_count": 10,
   "metadata": {},
   "outputs": [
    {
     "data": {
      "image/png": "[encoded data removed]",
      "text/plain": [
       "<Figure size 640x480 with 2 Axes>"
      ]
     },
     "metadata": {},
     "output_type": "display_data"
    }
   ],
   "source": [
    "selected = [0]\n",
    "discrete_hot = plt.get_cmap('plasma',16)\n",
    "import matplotlib.pyplot as plt\n",
    "#for i in selected:\n",
    "i = 0\n",
    "\n",
    "diff_grid = torchvision.utils.make_grid([diff_list[i], diff_list_l[i]], nrow=2, padding=0)\n",
    "diff_grid = torchvision.transforms.Grayscale(num_output_channels=1)(diff_grid)\n",
    "\n",
    "\n",
    "\n",
    "diff_grid = diff_grid / diff_grid.max()\n",
    "# bucket images into 16 bins\n",
    "diff_grid = torch.bucketize(diff_grid, torch.linspace(0, 1, 16))\n",
    "# convert to RGB\n",
    "# diff_grid = torchvision.transforms.ToPILImage()(diff_grid)\n",
    "plt.imshow(diff_grid.permute(1, 2, 0), cmap= discrete_hot) #'tab20c') # discrete_hot\n",
    "plt.axis('off') \n",
    "# add barplot, same size as the image, removing the text\n",
    "plt.colorbar(ticks=np.linspace(0, 1, 16), orientation='horizontal')\n",
    "plt.show()\n"
   ]
  },
  {
   "cell_type": "code",
   "execution_count": 6,
   "metadata": {},
   "outputs": [
    {
     "data": {
      "text/plain": [
       "tensor(0.0098)"
      ]
     },
     "execution_count": 6,
     "metadata": {},
     "output_type": "execute_result"
    }
   ],
   "source": [
    "# count the number of pixels that have specific value i.e. tensor == 1\n",
    "# find each 10% medians\n",
    "tt - tt1"
   ]
  },
  {
   "cell_type": "code",
   "execution_count": null,
   "metadata": {},
   "outputs": [],
   "source": [
    "#[(t.max(), t.min()) for t in diff_list]"
   ]
  },
  {
   "cell_type": "code",
   "execution_count": null,
   "metadata": {},
   "outputs": [],
   "source": [
    "# visualize with heatmap, diff = diff_list[selected_img]\n",
    "selected_img = 0\n"
   ]
  },
  {
   "cell_type": "code",
   "execution_count": null,
   "metadata": {},
   "outputs": [],
   "source": [
    "selected_img = 0\n",
    "from torchvision.transforms import ToPILImage\n",
    "# display the selected image, for both 1k and 4k and the difference between them\n",
    "# make torchvision grid of 3 images\n",
    "img1 = list_1k[selected_img]\n",
    "img2 = list_4k[selected_img]\n",
    "diff = diff_list[selected_img]\n",
    "g = torchvision.utils.make_grid([img1, img2, diff], nrow=3)\n",
    "#torchvision.utils.save_image(g, f\"outputs/compare_1k_4k_s{selected_img}.jpg\")\n",
    "ToPILImage()(g)\n"
   ]
  },
  {
   "cell_type": "code",
   "execution_count": null,
   "metadata": {},
   "outputs": [],
   "source": []
  }
 ],
 "metadata": {
  "kernelspec": {
   "display_name": "anyres-gan",
   "language": "python",
   "name": "python3"
  },
  "language_info": {
   "codemirror_mode": {
    "name": "ipython",
    "version": 3
   },
   "file_extension": ".py",
   "mimetype": "text/x-python",
   "name": "python",
   "nbconvert_exporter": "python",
   "pygments_lexer": "ipython3",
   "version": "3.8.15"
  },
  "orig_nbformat": 4,
  "vscode": {
   "interpreter": {
    "hash": "8b92608fad6a80d8be030d615afeb1226eb9f6a82e69c4a77b80f1b1464b1659"
   }
  }
 },
 "nbformat": 4,
 "nbformat_minor": 2
}
